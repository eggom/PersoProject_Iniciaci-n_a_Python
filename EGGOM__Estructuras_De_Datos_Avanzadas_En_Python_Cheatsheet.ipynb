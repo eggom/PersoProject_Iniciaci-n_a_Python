{
 "cells": [
  {
   "cell_type": "markdown",
   "metadata": {},
   "source": [
    "## Estructuras de datos AVANZADAS en Python\n",
    "___\n",
    "\n",
    "### 1. Sets\n",
    "\n",
    "Los sets son conjuntos de elementos no repetidos. Sirven para cuatro funciones principales:\n",
    "\n",
    "* Se usan para evaluar pertenencia de un elemento en un grupo\n",
    "* Se pueden ver los elementos comunes o dispares entre 2 o más sets\n",
    "* Se pueden usar para eliminar elementos repetidos de una lista\n",
    "* Se pueden usar para compararse..."
   ]
  },
  {
   "cell_type": "code",
   "execution_count": 4,
   "metadata": {},
   "outputs": [
    {
     "name": "stdout",
     "output_type": "stream",
     "text": [
      "El tipo de 'set_1' es:  <class 'set'>\n",
      "El tipo de 'set_2' es:  <class 'set'>\n"
     ]
    }
   ],
   "source": [
    "# 2 maneras de crear sets:\n",
    "#\n",
    "#\n",
    "# 1. A partir de una lista:\n",
    "\n",
    "set_1 = set([\"e1\", \"e2\", \"e3\", \"e4\", \"e5\", \"e6\"])\n",
    "\n",
    "# 2. Poniendo el conjunto de elementos entre llaves:\n",
    "\n",
    "set_2 = {\"e1\", \"e2\", \"e3\", \"e4\", \"e5\", \"e6\"}\n",
    "\n",
    "print(\"El tipo de 'set_1' es: \",type(set_1))\n",
    "print(\"El tipo de 'set_2' es: \",type(set_2))"
   ]
  },
  {
   "cell_type": "code",
   "execution_count": 5,
   "metadata": {},
   "outputs": [
    {
     "data": {
      "text/plain": [
       "{'e1', 'e2', 'e3', 'e4'}"
      ]
     },
     "execution_count": 5,
     "metadata": {},
     "output_type": "execute_result"
    }
   ],
   "source": [
    "# Si se intenta crear un set con elementos repetidos, en el set no aparecerán pero no da error:\n",
    "\n",
    "set_3 = set([\"e1\", \"e2\", \"e3\", \"e3\", \"e4\", \"e4\", \"e4\"])\n",
    "set_3"
   ]
  },
  {
   "cell_type": "code",
   "execution_count": 20,
   "metadata": {},
   "outputs": [
    {
     "name": "stdout",
     "output_type": "stream",
     "text": [
      "e2 está en set_1? True\n",
      "e10 está en set_1? False\n"
     ]
    }
   ],
   "source": [
    "# Evaluar si un cierto elemento está en un set o no:\n",
    "\n",
    "print(\"e2\",\"está en set_1?\",\"e2\" in set_1)\n",
    "print(\"e10\",\"está en set_1?\",\"e10\" in set_1)"
   ]
  },
  {
   "cell_type": "code",
   "execution_count": 35,
   "metadata": {},
   "outputs": [
    {
     "name": "stdout",
     "output_type": "stream",
     "text": [
      "Set_A:  {'e1', 'e2', 'e3', 'e4'}\n",
      "Set_B:  {'e7', 'e3', 'e5', 'e1', 'e9'}\n",
      "Set_A .UNION. Set_B:  {'e9', 'e4', 'e3', 'e2', 'e5', 'e1', 'e7'}\n",
      "Set_B .UNION. Set_A:  {'e4', 'e7', 'e3', 'e2', 'e5', 'e1', 'e9'}\n",
      "Set_A .INTERSECCION. Set_B:  {'e1', 'e3'}\n",
      "Set_B .INTERSECCION. Set_A:  {'e1', 'e3'}\n",
      "Set_A - Set_B =  {'e2', 'e4'}\n",
      "Set_B - Set_A =  {'e9', 'e7', 'e5'}\n"
     ]
    }
   ],
   "source": [
    "# Los sets pueden funcionar como conjuntos y adoptar ciertas operaciones:\n",
    "\n",
    "set_A = {\"e1\",\"e2\",\"e3\",\"e4\"}\n",
    "set_B = set([\"e1\",\"e3\",\"e5\",\"e7\",\"e9\"])\n",
    "\n",
    "print(\"Set_A: \",set_A)\n",
    "print(\"Set_B: \",set_B)\n",
    "\n",
    "print(\"Set_A .UNION. Set_B: \",set_A.union(set_B))\n",
    "print(\"Set_B .UNION. Set_A: \",set_B.union(set_A))\n",
    "print(\"Set_A .INTERSECCION. Set_B: \",set_A.intersection(set_B))\n",
    "print(\"Set_B .INTERSECCION. Set_A: \",set_B.intersection(set_A))\n",
    "\n",
    "print(\"Set_A - Set_B = \",set_A - set_B)\n",
    "print(\"Set_B - Set_A = \",set_B - set_A)"
   ]
  },
  {
   "cell_type": "code",
   "execution_count": 41,
   "metadata": {},
   "outputs": [
    {
     "name": "stdout",
     "output_type": "stream",
     "text": [
      "Añado 'e5':  {'e4', 'e3', 'e2', 'e5', 'e1'}\n",
      "Quito 'e1':  {'e4', 'e3', 'e2', 'e5'}\n"
     ]
    }
   ],
   "source": [
    "# Añadir o quitar elementos en un set:\n",
    "\n",
    "set_A = {\"e1\",\"e2\",\"e3\",\"e4\"}\n",
    "\n",
    "set_A.add(\"e5\")\n",
    "\n",
    "print(\"Añado 'e5': \",set_A)\n",
    "\n",
    "set_A.remove(\"e1\")\n",
    "\n",
    "print(\"Quito 'e1': \",set_A)"
   ]
  },
  {
   "cell_type": "code",
   "execution_count": 67,
   "metadata": {},
   "outputs": [
    {
     "name": "stdout",
     "output_type": "stream",
     "text": [
      "set_A {'e1', 'e2'}\n",
      "set_B {'e1', 'e2'}\n",
      "set_C {'e1', 'E2'} \n",
      "\n",
      "Comparaciones de igualdad:\n",
      "set_A es igual a set_B?  True\n",
      "set_A es igual a set_C?  False \n",
      "\n",
      "set_A {'e1', 'e2'}\n",
      "set_B {'e1', 'e2'}\n",
      "set_C {'e1', 'E2'}\n",
      "set_D {'e1', 'e3'}\n",
      "set_E {'e1', 'e2', 'e3'}\n",
      "set_F {'e1', 'e3', 'e5'} \n",
      "\n",
      "Comparaciones de mayor/menor:\n",
      "set_A es mayor a set_B?  False\n",
      "set_A es mayor o igual a set_B?  True\n",
      "set_B es mayor a set_A?  False\n",
      "set_E es mayor a set_B?  True\n",
      "set_F es mayor a set_B?  False\n"
     ]
    }
   ],
   "source": [
    "# Comparaciones entre 2 sets:\n",
    "\n",
    "set_A = {\"e1\", \"e2\"}\n",
    "set_B = {\"e2\", \"e1\"}\n",
    "set_C = {\"E2\", \"e1\"}\n",
    "set_D = {\"e1\", \"e3\"}\n",
    "set_E = {\"e1\", \"e2\", \"e3\"}\n",
    "set_F = {\"e1\", \"e3\", \"e5\"}\n",
    "\n",
    "print(\"set_A\",set_A)\n",
    "print(\"set_B\",set_B)\n",
    "print(\"set_C\",set_C,\"\\n\")\n",
    "print(\"Comparaciones de igualdad:\")\n",
    "\n",
    "# Comparación de igualdad: Dos sets son iguales si contienen los mismos elementos dando igual el orden :).\n",
    "#\n",
    "# (Esto no ocurre así en listas)\n",
    "\n",
    "print(\"set_A es igual a set_B? \",set_A == set_B)\n",
    "print(\"set_A es igual a set_C? \",set_A == set_C,\"\\n\")\n",
    "\n",
    "# Comparación de mayor/menor:\n",
    "# Un set es mayor que otro si contienen los mismos elementos que el primero y algún/os elemento/s más.\n",
    "#\n",
    "# (Esto no ocurre así en listas)\n",
    "\n",
    "print(\"set_A\",set_A)\n",
    "print(\"set_B\",set_B)\n",
    "print(\"set_C\",set_C)\n",
    "print(\"set_D\",set_D)\n",
    "print(\"set_E\",set_E)\n",
    "print(\"set_F\",set_F,\"\\n\")\n",
    "\n",
    "print(\"Comparaciones de mayor/menor:\")\n",
    "\n",
    "print(\"set_A es mayor a set_B? \",set_A > set_B)\n",
    "print(\"set_A es mayor o igual a set_B? \",set_A >= set_B)\n",
    "print(\"set_B es mayor a set_A? \",set_A < set_B)\n",
    "print(\"set_E es mayor a set_B? \",set_E > set_B)\n",
    "print(\"set_F es mayor a set_B? \",set_F > set_B)"
   ]
  },
  {
   "cell_type": "markdown",
   "metadata": {},
   "source": [
    "### 2. Counter\n",
    "\n",
    "La clase <code>Counter</code> se emplea para contar elementos...\n",
    "\n",
    "**CUIDADIN!**\n",
    "No es una clase nativa de Python y hay que imporarla"
   ]
  },
  {
   "cell_type": "code",
   "execution_count": 71,
   "metadata": {},
   "outputs": [],
   "source": [
    "from collections import Counter"
   ]
  },
  {
   "cell_type": "code",
   "execution_count": 152,
   "metadata": {},
   "outputs": [],
   "source": [
    "lista = [\"A\",\"A\",\"A\",\"A\",\"B\",\"B\",\"A\",\"A\",\"A\",\"C\",\"C\",\"A\",\"B\",\"B\",\"A\",\"A\",\"D\",\"A\",\"C\"]"
   ]
  },
  {
   "cell_type": "code",
   "execution_count": 153,
   "metadata": {},
   "outputs": [],
   "source": [
    "# Crear el objeto 'recuento' de clase 'Counter' con los resultados del conteo de elementos en la lista 'lista':\n",
    "\n",
    "recuento = Counter(lista)"
   ]
  },
  {
   "cell_type": "code",
   "execution_count": 154,
   "metadata": {},
   "outputs": [
    {
     "name": "stdout",
     "output_type": "stream",
     "text": [
      "Counter({'A': 11, 'B': 4, 'C': 3, 'D': 1})\n"
     ]
    }
   ],
   "source": [
    "# Imprimir el recuento:\n",
    "\n",
    "print(recuento)"
   ]
  },
  {
   "cell_type": "code",
   "execution_count": 155,
   "metadata": {},
   "outputs": [
    {
     "data": {
      "text/plain": [
       "4"
      ]
     },
     "execution_count": 155,
     "metadata": {},
     "output_type": "execute_result"
    }
   ],
   "source": [
    "# Acceder al conteo de un elemento en particular:\n",
    "\n",
    "elem = \"B\"\n",
    "\n",
    "recuento[elem]"
   ]
  },
  {
   "cell_type": "code",
   "execution_count": 156,
   "metadata": {},
   "outputs": [
    {
     "data": {
      "text/plain": [
       "0"
      ]
     },
     "execution_count": 156,
     "metadata": {},
     "output_type": "execute_result"
    }
   ],
   "source": [
    "# Acceder al conteo de un elemento en particular que no existe en el objeto 'Counter'\n",
    "#\n",
    "# Devuelve 0\n",
    "\n",
    "elem = \"E\"\n",
    "\n",
    "recuento[elem]"
   ]
  },
  {
   "cell_type": "code",
   "execution_count": 159,
   "metadata": {},
   "outputs": [
    {
     "name": "stdout",
     "output_type": "stream",
     "text": [
      "2\n",
      "3\n",
      "Counter({'A': 11, 'B': 4, 'C': 3, 'J': 3, 'D': 1})\n"
     ]
    }
   ],
   "source": [
    "# Añadir elementos a un 'Counter' dinámicamente:\n",
    "#\n",
    "# IMPORTANTE!!\n",
    "#\n",
    "# Esto, NO MODIFICA, los elementos de la lista que se empleo para generar el primer recuento :).\n",
    "\n",
    "elem = \"J\"\n",
    "\n",
    "print(recuento[elem])\n",
    "\n",
    "recuento.update(elem)\n",
    "\n",
    "print(recuento[elem])\n",
    "\n",
    "print(recuento)"
   ]
  },
  {
   "cell_type": "code",
   "execution_count": 160,
   "metadata": {},
   "outputs": [
    {
     "name": "stdout",
     "output_type": "stream",
     "text": [
      "Counter({'A': 11, 'B': 4, 'C': 3, 'J': 3, 'D': 1})\n",
      "Counter({'A': 14, 'B': 6, 'C': 3, 'J': 3, 'D': 1})\n"
     ]
    }
   ],
   "source": [
    "# Aumentar el recuento usando un diccionario:\n",
    "\n",
    "print(recuento)\n",
    "recuento.update({\"A\":3,\"B\":2})\n",
    "print(recuento)"
   ]
  },
  {
   "cell_type": "code",
   "execution_count": 161,
   "metadata": {},
   "outputs": [
    {
     "name": "stdout",
     "output_type": "stream",
     "text": [
      "Counter({'A': 14, 'B': 6, 'C': 3, 'J': 3, 'D': 1})\n",
      "Counter({'A': 14, 'C': 3, 'J': 3, 'B': 1, 'D': 1})\n"
     ]
    }
   ],
   "source": [
    "# Especificar directamente el recuento de un elemento:\n",
    "\n",
    "print(recuento)\n",
    "recuento[\"B\"] = 1\n",
    "print(recuento)"
   ]
  },
  {
   "cell_type": "code",
   "execution_count": 162,
   "metadata": {},
   "outputs": [
    {
     "name": "stdout",
     "output_type": "stream",
     "text": [
      "Counter({'A': 14, 'C': 3, 'J': 3, 'B': 1, 'D': 1})\n",
      "Counter({'A': 3, 'C': 3, 'J': 3, 'B': 1, 'D': 1})\n"
     ]
    }
   ],
   "source": [
    "print(recuento)\n",
    "recuento[\"A\"] = 3\n",
    "print(recuento)"
   ]
  },
  {
   "cell_type": "markdown",
   "metadata": {},
   "source": [
    "### 3. DefaultDict\n",
    "\n",
    "La clase <code>DefaultDict</code> permite crear diccionarios que devuelven un valor por defecto si una clave no existe.\n",
    "\n",
    "<code>DefaultDict</code> se inicia pasándole una función que indicará el valor a devolver en caso de no existir la clave especificada.\n",
    "\n",
    "**CUIDADIN!**\n",
    "No es una clase nativa de Python y hay que imporarla..."
   ]
  },
  {
   "cell_type": "code",
   "execution_count": 94,
   "metadata": {},
   "outputs": [],
   "source": [
    "from collections import defaultdict"
   ]
  },
  {
   "cell_type": "code",
   "execution_count": 99,
   "metadata": {},
   "outputs": [
    {
     "ename": "TypeError",
     "evalue": "first argument must be callable or None",
     "output_type": "error",
     "traceback": [
      "\u001b[1;31m---------------------------------------------------------------------------\u001b[0m",
      "\u001b[1;31mTypeError\u001b[0m                                 Traceback (most recent call last)",
      "\u001b[1;32m<ipython-input-99-2c32e25e0cda>\u001b[0m in \u001b[0;36m<module>\u001b[1;34m\u001b[0m\n\u001b[1;32m----> 1\u001b[1;33m \u001b[0mdiccionario_default\u001b[0m \u001b[1;33m=\u001b[0m \u001b[0mdefaultdict\u001b[0m\u001b[1;33m(\u001b[0m\u001b[1;34m\"default_response\"\u001b[0m\u001b[1;33m)\u001b[0m\u001b[1;33m\u001b[0m\u001b[1;33m\u001b[0m\u001b[0m\n\u001b[0m",
      "\u001b[1;31mTypeError\u001b[0m: first argument must be callable or None"
     ]
    }
   ],
   "source": [
    "# Esto falla pues 'default_response' no es una función!!\n",
    "\n",
    "diccionario_default = defaultdict(\"default_response\")"
   ]
  },
  {
   "cell_type": "code",
   "execution_count": 100,
   "metadata": {},
   "outputs": [],
   "source": [
    "# Empleando el lambda se resuelve esto.\n",
    "\n",
    "diccionario_default = defaultdict(lambda: \"default_response\")"
   ]
  },
  {
   "cell_type": "code",
   "execution_count": 101,
   "metadata": {},
   "outputs": [
    {
     "name": "stdout",
     "output_type": "stream",
     "text": [
      "defaultdict(<function <lambda> at 0x00000190A335B400>, {})\n"
     ]
    }
   ],
   "source": [
    "print(diccionario_default)"
   ]
  },
  {
   "cell_type": "code",
   "execution_count": 105,
   "metadata": {},
   "outputs": [],
   "source": [
    "# Añadiendo claves a defaultdict:\n",
    "\n",
    "diccionario_default[\"Clave1\"] = \"Valor1\"\n",
    "diccionario_default[\"Clave2\"] = \"Valor2\""
   ]
  },
  {
   "cell_type": "code",
   "execution_count": 106,
   "metadata": {},
   "outputs": [
    {
     "name": "stdout",
     "output_type": "stream",
     "text": [
      "Valor1\n",
      "Valor2\n"
     ]
    }
   ],
   "source": [
    "print(diccionario_default[\"Clave1\"])\n",
    "print(diccionario_default[\"Clave2\"])"
   ]
  },
  {
   "cell_type": "code",
   "execution_count": 120,
   "metadata": {},
   "outputs": [
    {
     "name": "stdout",
     "output_type": "stream",
     "text": [
      "default_response\n"
     ]
    }
   ],
   "source": [
    "# Accediendo a una clave inexistente en diccionario_default:\n",
    "#\n",
    "# Deberá devolver la respues definida por el lambda:\n",
    "\n",
    "print(diccionario_default[\"Clave4\"])"
   ]
  },
  {
   "cell_type": "code",
   "execution_count": 112,
   "metadata": {},
   "outputs": [],
   "source": [
    "# Crear un default_dict a partir de un diccionario ya existente:\n",
    "\n",
    "diccionario = {\n",
    "                \"Clave1\" : \"Valor1\",\n",
    "                \"Clave2\" : \"Valor2\",\n",
    "                \"Clave3\" : [\"Valor3\"]\n",
    "              }\n",
    "\n",
    "diccionario_default_2 = defaultdict(lambda: \"default_response_2\", diccionario)"
   ]
  },
  {
   "cell_type": "code",
   "execution_count": 130,
   "metadata": {},
   "outputs": [
    {
     "name": "stdout",
     "output_type": "stream",
     "text": [
      "defaultdict(<function <lambda> at 0x00000190A335B400>, {'Clave1': 'Valor1', 'Clave2': 'Valor2', 'Clave3': 'default_response', 'Clave4': 'default_response'})\n",
      "defaultdict(<function <lambda> at 0x00000190A335B840>, {'Clave1': 'Valor1', 'Clave2': 'Valor2', 'Clave3': ['Valor3']})\n"
     ]
    }
   ],
   "source": [
    "print(diccionario_default)\n",
    "print(diccionario_default_2)"
   ]
  },
  {
   "cell_type": "code",
   "execution_count": 225,
   "metadata": {},
   "outputs": [
    {
     "data": {
      "text/plain": [
       "defaultdict(list,\n",
       "            {'Ash': ['Nidorian',\n",
       "              'Charmander',\n",
       "              'Jigglypuff',\n",
       "              'Rattata',\n",
       "              'Pikachu',\n",
       "              'Pidgey'],\n",
       "             'Misty': ['Pikachu', 'Squirtle', 'Jigglypuff', 'Rattata'],\n",
       "             'Brock': ['Nidorian', 'Charmander', 'Jigglypuff']})"
      ]
     },
     "execution_count": 225,
     "metadata": {},
     "output_type": "execute_result"
    }
   ],
   "source": [
    "\"\"\"\n",
    "Un uso muy frecuente de defaultdict es cuando tenemos un conjunto de elementos \n",
    "donde cada elemento tiene múltiples caracteristicas, y queremos hacer un diccionario\n",
    "para poder obtener rápidamente su lista de características.\n",
    "\"\"\"\n",
    "\n",
    "pokemon_entrenadores_lista = [\n",
    "        ['Ash', 'Nidorian'],\n",
    "         ['Ash', 'Charmander'],\n",
    "         ['Ash', 'Jigglypuff'],\n",
    "         ['Ash', 'Rattata'],\n",
    "         ['Ash', 'Pikachu'],\n",
    "         ['Ash', 'Pidgey'],\n",
    "         ['Misty', 'Pikachu'],\n",
    "         ['Misty', 'Squirtle'],\n",
    "         ['Misty', 'Jigglypuff'],\n",
    "         ['Misty', 'Rattata'],\n",
    "         ['Brock', 'Nidorian'],\n",
    "         ['Brock', 'Charmander'],\n",
    "         ['Brock', 'Jigglypuff']\n",
    "]\n",
    "\n",
    "pokemons_por_entrenador = defaultdict(list)\n",
    "\n",
    "for entrenador, pokemon in pokemon_entrenadores_lista:\n",
    "    pokemons_por_entrenador[entrenador].append(pokemon)\n",
    "pokemons_por_entrenador"
   ]
  },
  {
   "cell_type": "markdown",
   "metadata": {},
   "source": [
    "## EJERCICIOS:"
   ]
  },
  {
   "cell_type": "code",
   "execution_count": 214,
   "metadata": {},
   "outputs": [],
   "source": [
    "frasecita = \"Esta es la frase de ejemplo. Es una frase larga para que pueda existir chicha!\"\n",
    "\n",
    "def most_common_chars(frase):\n",
    "    from collections import Counter\n",
    "    chars_in_frase = []\n",
    "    for char in frase:\n",
    "        chars_in_frase.append(char)        \n",
    "    most_common_chars_5 = []\n",
    "    # while len(most_common_chars_5) < 5:\n",
    "    for char, veces in Counter(chars_in_frase).most_common(7):\n",
    "        if char != \" \" and len(most_common_chars_5) < 5:\n",
    "            most_common_chars_5.append(char)\n",
    "    return most_common_chars_5"
   ]
  },
  {
   "cell_type": "code",
   "execution_count": 215,
   "metadata": {},
   "outputs": [
    {
     "data": {
      "text/plain": [
       "['a', 'e', 's', 'r', 'l']"
      ]
     },
     "execution_count": 215,
     "metadata": {},
     "output_type": "execute_result"
    }
   ],
   "source": [
    "most_common_chars(frasecita)"
   ]
  },
  {
   "cell_type": "code",
   "execution_count": 216,
   "metadata": {},
   "outputs": [],
   "source": [
    "def contar_letras(frase):\n",
    "    contador = Counter([letra for letra in frase if letra not in \" ,.\\n\"])\n",
    "    return contador.most_common(5)"
   ]
  },
  {
   "cell_type": "code",
   "execution_count": 218,
   "metadata": {},
   "outputs": [
    {
     "data": {
      "text/plain": [
       "[('a', 11), ('e', 9), ('s', 6), ('r', 5), ('l', 3)]"
      ]
     },
     "execution_count": 218,
     "metadata": {},
     "output_type": "execute_result"
    }
   ],
   "source": [
    "contar_letras(frasecita)"
   ]
  },
  {
   "cell_type": "code",
   "execution_count": 224,
   "metadata": {},
   "outputs": [
    {
     "name": "stdout",
     "output_type": "stream",
     "text": [
      "0.6666666666666666\n"
     ]
    }
   ],
   "source": [
    "\"\"\"\n",
    "Crear una función que, dados dos listas de elementos, nos devuelva su coeficiente de jaccard.\n",
    " El coeficiente de Jaccard es una medida de similaridad entre dos grupos y se define\n",
    " como el número de elementos en los dos grupos dividido entre el número de elementos\n",
    " en uno u otro grupo\n",
    "\"\"\"\n",
    "\n",
    "def jaccard(grupo1, grupo2):\n",
    "    union = len(set(grupo1).union(set(grupo2)))\n",
    "    interseccion = len(set(grupo1).intersection(set(grupo2)))\n",
    "    return interseccion / union\n",
    "\n",
    "grupo_amigos1 = [\"Manuel\", \"Rodrigo\", \"Miguel\", \"Jesus\", \"Iñigo\"]\n",
    "# tambien se pueden crear con llaves {}\n",
    "grupo_amigos2 = [\"Manuel\", \"Alejandro\", \"Fernando\", \"Antonio\", \"Lazaro\"]\n",
    "grupo_amigos3 = [\"Manuel\", \"Miguel\", \"Jesus\", \"Rodrigo\", \"Lazaro\"]\n",
    "\n",
    "jaccard_amigos = jaccard(grupo_amigos1, grupo_amigos3)\n",
    "print(jaccard_amigos)"
   ]
  },
  {
   "cell_type": "code",
   "execution_count": null,
   "metadata": {},
   "outputs": [],
   "source": []
  },
  {
   "cell_type": "code",
   "execution_count": null,
   "metadata": {},
   "outputs": [],
   "source": []
  }
 ],
 "metadata": {
  "kernelspec": {
   "display_name": "Python 3",
   "language": "python",
   "name": "python3"
  },
  "language_info": {
   "codemirror_mode": {
    "name": "ipython",
    "version": 3
   },
   "file_extension": ".py",
   "mimetype": "text/x-python",
   "name": "python",
   "nbconvert_exporter": "python",
   "pygments_lexer": "ipython3",
   "version": "3.7.3"
  }
 },
 "nbformat": 4,
 "nbformat_minor": 2
}
