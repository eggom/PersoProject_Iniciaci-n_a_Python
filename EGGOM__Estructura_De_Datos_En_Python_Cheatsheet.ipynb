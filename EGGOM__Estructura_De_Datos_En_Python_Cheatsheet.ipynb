{
 "cells": [
  {
   "cell_type": "markdown",
   "metadata": {},
   "source": [
    "## Cheatsheet para estructuras de datos en Python\n",
    "___\n",
    "\n",
    "### 1. Listas"
   ]
  },
  {
   "cell_type": "code",
   "execution_count": 274,
   "metadata": {},
   "outputs": [
    {
     "data": {
      "text/plain": [
       "['e1', 'e2', 'e3', 'e4', 'e5', 'e6', 'e7', 'e8', 'e9', 'e10', 'e11']"
      ]
     },
     "execution_count": 274,
     "metadata": {},
     "output_type": "execute_result"
    }
   ],
   "source": [
    "lista = [\"e1\",\"e2\",\"e3\",\"e4\",\"e5\",\"e6\",\"e7\",\"e8\",\"e9\",\"e10\",\"e11\"]"
   ]
  },
  {
   "cell_type": "markdown",
   "metadata": {},
   "source": [
    "#### Acceder a un cierto elemento de la lista\n",
    "\n",
    "**_IMPORTANTE:_** El primer elemento de una lista en Python tiene el índice 0!!"
   ]
  },
  {
   "cell_type": "code",
   "execution_count": 10,
   "metadata": {},
   "outputs": [
    {
     "data": {
      "text/plain": [
       "'e1'"
      ]
     },
     "execution_count": 10,
     "metadata": {},
     "output_type": "execute_result"
    }
   ],
   "source": [
    "# Acceder al primer elemento de la lista (E1):\n",
    "#\n",
    "#\n",
    "# RECORDATORIO!!! El primer elemento de una lista se indexa con el número 0:\n",
    "#\n",
    "\n",
    "E1 = lista[0]\n",
    "E1"
   ]
  },
  {
   "cell_type": "code",
   "execution_count": 3,
   "metadata": {},
   "outputs": [
    {
     "data": {
      "text/plain": [
       "'e3'"
      ]
     },
     "execution_count": 3,
     "metadata": {},
     "output_type": "execute_result"
    }
   ],
   "source": [
    "# Acceder al tercer elemento de la lista (E3):\n",
    "\n",
    "E3 = lista[2]\n",
    "E3"
   ]
  },
  {
   "cell_type": "code",
   "execution_count": 48,
   "metadata": {},
   "outputs": [
    {
     "data": {
      "text/plain": [
       "'e11'"
      ]
     },
     "execution_count": 48,
     "metadata": {},
     "output_type": "execute_result"
    }
   ],
   "source": [
    "# Acceder al último elemento de la lista sin conocer a priori toda la dimensión de la lista:\n",
    "\n",
    "E_ultimo = lista[-1]\n",
    "E_ultimo"
   ]
  },
  {
   "cell_type": "code",
   "execution_count": 50,
   "metadata": {},
   "outputs": [
    {
     "data": {
      "text/plain": [
       "'e11'"
      ]
     },
     "execution_count": 50,
     "metadata": {},
     "output_type": "execute_result"
    }
   ],
   "source": [
    "# Acceder al último elemento de la lista sin conocer a priori toda la dimensión de la lista pero usando la función 'len()':\n",
    "\n",
    "lista[len(lista)-1]"
   ]
  },
  {
   "cell_type": "code",
   "execution_count": 13,
   "metadata": {},
   "outputs": [
    {
     "data": {
      "text/plain": [
       "'e10'"
      ]
     },
     "execution_count": 13,
     "metadata": {},
     "output_type": "execute_result"
    }
   ],
   "source": [
    "# Acceder al penúltimo elemento de la lista sin conocer a priori toda la dimensión de la lista:\n",
    "\n",
    "E_penultimo = lista[-2]\n",
    "E_penultimo"
   ]
  },
  {
   "cell_type": "markdown",
   "metadata": {},
   "source": [
    "#### Acceder a un cierto rango de elementos de la lista\n",
    "\n",
    "**lista [ _inicio_ : _final-1_ : _orden_ ]**"
   ]
  },
  {
   "cell_type": "code",
   "execution_count": 26,
   "metadata": {},
   "outputs": [
    {
     "name": "stdout",
     "output_type": "stream",
     "text": [
      "['e1', 'e2', 'e3', 'e4', 'e5', 'e6', 'e7', 'e8', 'e9', 'e10', 'e11']\n",
      "['e1', 'e2', 'e3', 'e4', 'e5', 'e6', 'e7', 'e8', 'e9', 'e10', 'e11']\n",
      "['e1', 'e2', 'e3', 'e4', 'e5', 'e6', 'e7', 'e8', 'e9', 'e10', 'e11']\n",
      "['e1', 'e2', 'e3', 'e4', 'e5', 'e6', 'e7', 'e8', 'e9', 'e10', 'e11']\n"
     ]
    }
   ],
   "source": [
    "# Devolver TODOS los elementos de la lista (4 maneras):\n",
    "\n",
    "print( lista      )  # --> La más común\n",
    "print( lista[:]   )\n",
    "print( lista[::]  )\n",
    "print( lista[::1] )"
   ]
  },
  {
   "cell_type": "code",
   "execution_count": 27,
   "metadata": {},
   "outputs": [
    {
     "name": "stdout",
     "output_type": "stream",
     "text": [
      "['e1', 'e2', 'e3']\n",
      "['e1', 'e2', 'e3']\n",
      "['e1', 'e2', 'e3']\n"
     ]
    }
   ],
   "source": [
    "# Devolver los n primeros elmentos de la lista (3 maneras):\n",
    "\n",
    "n = 3\n",
    "\n",
    "print( lista[:n]   ) # --> La más común\n",
    "print( lista[0:n]  )\n",
    "print( lista[:n:1] )"
   ]
  },
  {
   "cell_type": "code",
   "execution_count": 40,
   "metadata": {},
   "outputs": [
    {
     "name": "stdout",
     "output_type": "stream",
     "text": [
      "['e8', 'e9', 'e10', 'e11']\n",
      "['e8', 'e9', 'e10', 'e11']\n",
      "['e8', 'e9', 'e10', 'e11']\n"
     ]
    }
   ],
   "source": [
    "# Devolver los n últimos elementos de la lista (3 maneras):\n",
    "\n",
    "n = -4      # --> Importante el uso del '-' a la hora de indicar el número\n",
    "\n",
    "print( lista[n:]                ) # --> La más común\n",
    "print( lista[n:len(lista)]      )\n",
    "print( lista[n:len(lista) + 40] )"
   ]
  },
  {
   "cell_type": "code",
   "execution_count": 47,
   "metadata": {},
   "outputs": [
    {
     "name": "stdout",
     "output_type": "stream",
     "text": [
      "['e2', 'e3', 'e4', 'e5', 'e6', 'e7', 'e8', 'e9']\n",
      "['e2', 'e3', 'e4', 'e5', 'e6', 'e7', 'e8', 'e9']\n"
     ]
    }
   ],
   "source": [
    "# Devolver el rango (de elementos consecutivos) desde el elemento n-esimo al m-esimo (2 maneras):\n",
    "\n",
    "n = 2\n",
    "m = 9\n",
    "\n",
    "print( lista[n-1:m]   ) # --> La más común\n",
    "print( lista[n-1:m:1] )"
   ]
  },
  {
   "cell_type": "code",
   "execution_count": 61,
   "metadata": {},
   "outputs": [
    {
     "name": "stdout",
     "output_type": "stream",
     "text": [
      "['e1', 'e3', 'e5', 'e7', 'e9', 'e11']\n",
      "['e2', 'e4', 'e6', 'e8', 'e10']\n",
      "['e2', 'e5', 'e8', 'e11']\n"
     ]
    }
   ],
   "source": [
    "# Devolver rangos separados un cierto número usando el 'orden' dentro de la expresión\n",
    "#\n",
    "# lista[inicio:final-1:ORDEN]\n",
    "#\n",
    "#\n",
    "# Ej. 1 --> Devolver TODOS los elementos impares de la lista:\n",
    "\n",
    "print( lista[::2] )\n",
    "\n",
    "# Ej. 2 --> Devolver TODOS los elementos pares de la lista:\n",
    "\n",
    "print( lista[lista.index(\"e2\")::2])\n",
    "\n",
    "# Ej. 3 --> Devolver cada tercer elemento de la lista empezando por el segundo elemento (e2)\n",
    "\n",
    "print( lista[1::3])"
   ]
  },
  {
   "cell_type": "code",
   "execution_count": 73,
   "metadata": {},
   "outputs": [
    {
     "name": "stdout",
     "output_type": "stream",
     "text": [
      "['e11', 'e10', 'e9', 'e8', 'e7', 'e6', 'e5', 'e4', 'e3', 'e2', 'e1']\n",
      "['e11', 'e9', 'e7', 'e5', 'e3', 'e1']\n",
      "['e10', 'e8', 'e6', 'e4', 'e2']\n"
     ]
    }
   ],
   "source": [
    "# Empleando órdenes negativos:\n",
    "#\n",
    "#\n",
    "# Ej. 1 --> Devolver TODOS los elementos de la lista en ordern inverso:\n",
    "\n",
    "print( lista[::-1] )\n",
    "\n",
    "# Ej. 2 --> Devolver TODOS los elementos impares de la lista pero en orden inverso:\n",
    "\n",
    "print( lista[::-2] )\n",
    "\n",
    "# Ej. 3 --> Devolver TODOS los elementos pares de la lista pero en orden inverso:\n",
    "\n",
    "print( lista[lista.index(\"e10\")::-2] )"
   ]
  },
  {
   "cell_type": "markdown",
   "metadata": {},
   "source": [
    "#### Métodos útiles para emplear con listas:"
   ]
  },
  {
   "cell_type": "code",
   "execution_count": 75,
   "metadata": {},
   "outputs": [
    {
     "data": {
      "text/plain": [
       "11"
      ]
     },
     "execution_count": 75,
     "metadata": {},
     "output_type": "execute_result"
    }
   ],
   "source": [
    "# Conocer número de elementos en la lista:\n",
    "\n",
    "num_elementos_en_lista = len(lista)\n",
    "num_elementos_en_lista"
   ]
  },
  {
   "cell_type": "code",
   "execution_count": 118,
   "metadata": {},
   "outputs": [
    {
     "name": "stdout",
     "output_type": "stream",
     "text": [
      "['e1', 'e2', 'e3', 'e4', 'e5', 'e6', 'e7', 'e8', 'e9', 'e10', 'e11', 'e12']\n"
     ]
    }
   ],
   "source": [
    "# Añadir un elementos a la lista\n",
    "\n",
    "lista.append(\"e12\")\n",
    "print(lista)"
   ]
  },
  {
   "cell_type": "code",
   "execution_count": 100,
   "metadata": {},
   "outputs": [
    {
     "name": "stdout",
     "output_type": "stream",
     "text": [
      "['e1', 'e2', 'e3', 'e1', 'e2', 'e3', 'e1', 'e2', 'e3']\n"
     ]
    }
   ],
   "source": [
    "# Repetir una lista n veces:\n",
    "\n",
    "n = 3\n",
    "\n",
    "lista_s = [\"e1\", \"e2\", \"e3\"]\n",
    "print( lista_s * n )"
   ]
  },
  {
   "cell_type": "code",
   "execution_count": 101,
   "metadata": {},
   "outputs": [
    {
     "name": "stdout",
     "output_type": "stream",
     "text": [
      "['e1', 'e2', 'e3', 'e4', 'e5', 'e6', 'e7', 'e8', 'e9']\n"
     ]
    }
   ],
   "source": [
    "# Concatenar listas:\n",
    "\n",
    "lista_m = [\"e4\", \"e5\", \"e6\", \"e7\", \"e8\", \"e9\"]\n",
    "print( lista_s + lista_m )"
   ]
  },
  {
   "cell_type": "code",
   "execution_count": 103,
   "metadata": {},
   "outputs": [
    {
     "name": "stdout",
     "output_type": "stream",
     "text": [
      "['e1', 'e2', 'E3', 'E4', 'E5', 'E6']\n"
     ]
    }
   ],
   "source": [
    "# Prolongar listas:\n",
    "\n",
    "lista_s[2:] = [\"E3\", \"E4\", \"E5\", \"E6\"]\n",
    "print( lista_s )"
   ]
  },
  {
   "cell_type": "code",
   "execution_count": 109,
   "metadata": {},
   "outputs": [
    {
     "name": "stdout",
     "output_type": "stream",
     "text": [
      "['e1', 'e2', 'e3', 'e4', 'e5', 'e6', 'e7', 'e8', 'e9', 'e10', 'e11', 'e12']\n",
      "El elemento 'e3' está en la lista:  True\n",
      "El elemento 'e14' está en la lista:  False\n"
     ]
    }
   ],
   "source": [
    "# Evaluar si un cierto elemento existe en una lista:\n",
    "#\n",
    "#\n",
    "\n",
    "print( lista )\n",
    "\n",
    "# Ej. 1 ¿Existe el elemento 'e3' en la nuestra 'lista'\n",
    "\n",
    "print( \"El elemento 'e3' está en la lista: \", \"e3\" in lista )\n",
    "\n",
    "# Ej. 2 ¿Existe el elemento 'e14'?\n",
    "\n",
    "print( \"El elemento 'e14' está en la lista: \", \"e14\" in lista )"
   ]
  },
  {
   "cell_type": "code",
   "execution_count": 111,
   "metadata": {},
   "outputs": [
    {
     "name": "stdout",
     "output_type": "stream",
     "text": [
      "2\n",
      "e3\n"
     ]
    }
   ],
   "source": [
    "# Buscar la posición de un elemento en la lista:\n",
    "\n",
    "print( lista.index(\"e3\") )\n",
    "print( lista[2] )"
   ]
  },
  {
   "cell_type": "code",
   "execution_count": 119,
   "metadata": {},
   "outputs": [
    {
     "name": "stdout",
     "output_type": "stream",
     "text": [
      "La 'lista' modificada es:  ['e1', 'e2', 'e3', 'e4', 'e5', 'e6', 'e7', 'e8', 'e9', 'e10', 'e11']\n",
      "El elemento que se ha eliminado es:  e12\n"
     ]
    }
   ],
   "source": [
    "# Eliminar un elemento en una posición concreta:\n",
    "\n",
    "lista_fuera_e12 = lista.pop(11)\n",
    "print(\"La 'lista' modificada es: \", lista)\n",
    "print(\"El elemento que se ha eliminado es: \",lista_fuera_e12)"
   ]
  },
  {
   "cell_type": "code",
   "execution_count": 131,
   "metadata": {},
   "outputs": [
    {
     "name": "stdout",
     "output_type": "stream",
     "text": [
      "lista2 ANTES del .sort():    ['e4', 'e8', 'e7', 'e1', 'e0', 'e2', 'e6', 'e3', 'e4', 'e5', 'e4']\n",
      "lista2 DESPUES del .sort():  ['e0', 'e1', 'e2', 'e3', 'e4', 'e4', 'e4', 'e5', 'e6', 'e7', 'e8']\n",
      "lista2_ord_asc:              None\n"
     ]
    }
   ],
   "source": [
    "# Ordenando listas (en orden ascendente) (modificando la lista original)\n",
    "\n",
    "lista2 = [\"e4\", \"e8\", \"e7\", \"e1\", \"e0\", \"e2\", \"e6\", \"e3\", \"e4\", \"e5\", \"e4\"]\n",
    "print(\"lista2 ANTES del .sort():   \", lista2)\n",
    "lista2_ord_asc = lista2.sort()\n",
    "print(\"lista2 DESPUES del .sort(): \", lista2)\n",
    "print(\"lista2_ord_asc:             \", lista2_ord_asc)"
   ]
  },
  {
   "cell_type": "code",
   "execution_count": 133,
   "metadata": {},
   "outputs": [
    {
     "name": "stdout",
     "output_type": "stream",
     "text": [
      "lista2 ANTES del sorted(lista2):      ['e4', 'e8', 'e7', 'e1', 'e0', 'e2', 'e6', 'e3', 'e4', 'e5', 'e4']\n",
      "lista2 DESPUES del sorted(lista2):    ['e4', 'e8', 'e7', 'e1', 'e0', 'e2', 'e6', 'e3', 'e4', 'e5', 'e4']\n",
      "Nueva lista ordenada lista2_ord_asc:  ['e0', 'e1', 'e2', 'e3', 'e4', 'e4', 'e4', 'e5', 'e6', 'e7', 'e8']\n"
     ]
    }
   ],
   "source": [
    "# Ordenando listas (en orden ascendente) (sin modificar la lista original)\n",
    "\n",
    "lista2 = [\"e4\", \"e8\", \"e7\", \"e1\", \"e0\", \"e2\", \"e6\", \"e3\", \"e4\", \"e5\", \"e4\"]\n",
    "print(\"lista2 ANTES del sorted(lista2):     \", lista2)\n",
    "lista2_ord_asc = sorted(lista2)\n",
    "print(\"lista2 DESPUES del sorted(lista2):   \", lista2)\n",
    "print(\"Nueva lista ordenada lista2_ord_asc: \", lista2_ord_asc)"
   ]
  },
  {
   "cell_type": "code",
   "execution_count": 134,
   "metadata": {},
   "outputs": [
    {
     "name": "stdout",
     "output_type": "stream",
     "text": [
      "lista2 ANTES del .sort(reverse=True):    ['e4', 'e8', 'e7', 'e1', 'e0', 'e2', 'e6', 'e3', 'e4', 'e5', 'e4']\n",
      "lista2 DESPUES del .sort(reverse=True):  ['e8', 'e7', 'e6', 'e5', 'e4', 'e4', 'e4', 'e3', 'e2', 'e1', 'e0']\n",
      "lista2_ord_asc:                          None\n"
     ]
    }
   ],
   "source": [
    "# Ordenando listas (en orden descendente) (modificando la lista original)\n",
    "\n",
    "lista2 = [\"e4\", \"e8\", \"e7\", \"e1\", \"e0\", \"e2\", \"e6\", \"e3\", \"e4\", \"e5\", \"e4\"]\n",
    "print(\"lista2 ANTES del .sort(reverse=True):   \", lista2)\n",
    "lista2_ord_asc = lista2.sort(reverse=True)\n",
    "print(\"lista2 DESPUES del .sort(reverse=True): \", lista2)\n",
    "print(\"lista2_ord_asc:                         \", lista2_ord_asc)"
   ]
  },
  {
   "cell_type": "code",
   "execution_count": 135,
   "metadata": {},
   "outputs": [
    {
     "name": "stdout",
     "output_type": "stream",
     "text": [
      "lista2 ANTES del sorted(lista2, reverse=True):      ['e4', 'e8', 'e7', 'e1', 'e0', 'e2', 'e6', 'e3', 'e4', 'e5', 'e4']\n",
      "lista2 DESPUES del sorted(lista2, reverse=True):    ['e4', 'e8', 'e7', 'e1', 'e0', 'e2', 'e6', 'e3', 'e4', 'e5', 'e4']\n",
      "Nueva lista ordenada lista2_ord_asc:  ['e8', 'e7', 'e6', 'e5', 'e4', 'e4', 'e4', 'e3', 'e2', 'e1', 'e0']\n"
     ]
    }
   ],
   "source": [
    "# Ordenando listas (en orden descendente) (sin modificar la lista original)\n",
    "\n",
    "lista2 = [\"e4\", \"e8\", \"e7\", \"e1\", \"e0\", \"e2\", \"e6\", \"e3\", \"e4\", \"e5\", \"e4\"]\n",
    "print(\"lista2 ANTES del sorted(lista2, reverse=True):     \", lista2)\n",
    "lista2_ord_asc = sorted(lista2, reverse=True)\n",
    "print(\"lista2 DESPUES del sorted(lista2, reverse=True):   \", lista2)\n",
    "print(\"Nueva lista ordenada lista2_ord_asc: \", lista2_ord_asc)"
   ]
  },
  {
   "cell_type": "markdown",
   "metadata": {},
   "source": [
    "#### Listas y Strings... (algunas particularidades)"
   ]
  },
  {
   "cell_type": "code",
   "execution_count": 136,
   "metadata": {},
   "outputs": [
    {
     "name": "stdout",
     "output_type": "stream",
     "text": [
      "E\n",
      "uardo\n"
     ]
    }
   ],
   "source": [
    "# Los strings se pueden acceder de forma similar a las listas\n",
    "\n",
    "nombre = \"Eduardo\"\n",
    "\n",
    "print(nombre[0])\n",
    "print(nombre[2:])"
   ]
  },
  {
   "cell_type": "code",
   "execution_count": 148,
   "metadata": {},
   "outputs": [
    {
     "name": "stdout",
     "output_type": "stream",
     "text": [
      "naranja,manzana,pera,fresa\n",
      "<class 'str'>\n",
      "---------------------------------\n",
      "tenemos que comprar:\n",
      "naranja\n",
      "manzana\n",
      "pera\n",
      "fresa\n"
     ]
    }
   ],
   "source": [
    "# Podemos convertir listas a strings con .join(···)\n",
    "\n",
    "frutas = [ \"naranja\", \"manzana\", \"pera\", \"fresa\"]\n",
    "frutas_separadas_por_comas = \",\".join(frutas)\n",
    "print(frutas_separadas_por_comas)\n",
    "print(type(frutas_separadas_por_comas))\n",
    "print(\"---------------------------------\")\n",
    "\n",
    "frutas_separadas_por_lineas = \"\\n\".join(frutas)\n",
    "\n",
    "print(\"tenemos que comprar:\\n{}\".format(frutas_separadas_por_lineas))"
   ]
  },
  {
   "cell_type": "markdown",
   "metadata": {},
   "source": [
    "### 2. Tuplas\n",
    "\n",
    "Las tuplas se comportan exactamente igual que las listas pero sus elementos no pueden modificarse!!"
   ]
  },
  {
   "cell_type": "code",
   "execution_count": 149,
   "metadata": {},
   "outputs": [],
   "source": [
    "tupla = (\"e1\",\"e2\",\"e3\",\"e4\",\"e5\",\"e6\",\"e7\",\"e8\",\"e9\",\"e10\",\"e11\")"
   ]
  },
  {
   "cell_type": "code",
   "execution_count": 150,
   "metadata": {},
   "outputs": [
    {
     "name": "stdout",
     "output_type": "stream",
     "text": [
      "<class 'tuple'>\n"
     ]
    }
   ],
   "source": [
    "print(type(tupla))"
   ]
  },
  {
   "cell_type": "code",
   "execution_count": 162,
   "metadata": {},
   "outputs": [
    {
     "name": "stdout",
     "output_type": "stream",
     "text": [
      "e1\n",
      "e4\n",
      "('e1', 'e2', 'e3')\n",
      "('e9', 'e10', 'e11')\n",
      "('e1', 'e3', 'e5', 'e7', 'e9', 'e11')\n",
      "('e11', 'e9', 'e7', 'e5', 'e3', 'e1')\n"
     ]
    }
   ],
   "source": [
    "# A la hora de acceder a elementos y rangos ES IGUAL!!!\n",
    "\n",
    "print( tupla[0] )\n",
    "print( tupla[3] )\n",
    "print( tupla[:3] )\n",
    "print( tupla[-3:] )\n",
    "print( tupla[::2] )\n",
    "print( tupla[::-2] )"
   ]
  },
  {
   "cell_type": "code",
   "execution_count": 164,
   "metadata": {},
   "outputs": [
    {
     "name": "stdout",
     "output_type": "stream",
     "text": [
      "('e1', 'e2', 'e3', 'e1', 'e2', 'e3', 'e1', 'e2', 'e3')\n"
     ]
    }
   ],
   "source": [
    "# Repetir una tupla n veces:\n",
    "\n",
    "n = 3\n",
    "\n",
    "tupla_s = (\"e1\", \"e2\", \"e3\")\n",
    "print( tupla_s * n )"
   ]
  },
  {
   "cell_type": "code",
   "execution_count": 175,
   "metadata": {},
   "outputs": [
    {
     "name": "stdout",
     "output_type": "stream",
     "text": [
      "('e1', 'e2', 'e3', 'e4', 'e5', 'e6', 'e7', 'e8', 'e9')\n"
     ]
    }
   ],
   "source": [
    "# Concatenar tuplas:\n",
    "\n",
    "tupla_m = (\"e4\", \"e5\", \"e6\", \"e7\", \"e8\", \"e9\")\n",
    "print( tupla_s + tupla_m )"
   ]
  },
  {
   "cell_type": "code",
   "execution_count": 181,
   "metadata": {},
   "outputs": [
    {
     "name": "stdout",
     "output_type": "stream",
     "text": [
      "tupla2 ANTES del sorted(tupla2):    ('e4', 'e8', 'e7', 'e1', 'e0', 'e2', 'e6', 'e3', 'e4', 'e5', 'e4')\n",
      "tupla2 DESPUES del sorted(tupla2):  ('e4', 'e8', 'e7', 'e1', 'e0', 'e2', 'e6', 'e3', 'e4', 'e5', 'e4')\n",
      "tupla2_ord_asc:              ['e0', 'e1', 'e2', 'e3', 'e4', 'e4', 'e4', 'e5', 'e6', 'e7', 'e8'] --> Se devuelve en tipo lista!\n"
     ]
    }
   ],
   "source": [
    "# Ordenar tuplas (en orden ascendente) (sin modificar la tupla original)\n",
    "\n",
    "tupla2 = (\"e4\", \"e8\", \"e7\", \"e1\", \"e0\", \"e2\", \"e6\", \"e3\", \"e4\", \"e5\", \"e4\")\n",
    "print(\"tupla2 ANTES del sorted(tupla2):   \", tupla2)\n",
    "tupla2_ord_asc = sorted(tupla2)\n",
    "print(\"tupla2 DESPUES del sorted(tupla2): \", tupla2)\n",
    "print(\"tupla2_ord_asc:             \", tupla2_ord_asc,\"--> Se devuelve en tipo lista!\")"
   ]
  },
  {
   "cell_type": "markdown",
   "metadata": {},
   "source": [
    "#### En las tuplas todo lo que sea modificar.... NO SE PUEDE!!!"
   ]
  },
  {
   "cell_type": "code",
   "execution_count": 167,
   "metadata": {},
   "outputs": [
    {
     "ename": "TypeError",
     "evalue": "'tuple' object does not support item assignment",
     "output_type": "error",
     "traceback": [
      "\u001b[1;31m---------------------------------------------------------------------------\u001b[0m",
      "\u001b[1;31mTypeError\u001b[0m                                 Traceback (most recent call last)",
      "\u001b[1;32m<ipython-input-167-e64fbb1a07f8>\u001b[0m in \u001b[0;36m<module>\u001b[1;34m\u001b[0m\n\u001b[0;32m      1\u001b[0m \u001b[1;31m# Prolongar tuplas:\u001b[0m\u001b[1;33m\u001b[0m\u001b[1;33m\u001b[0m\u001b[1;33m\u001b[0m\u001b[0m\n\u001b[0;32m      2\u001b[0m \u001b[1;33m\u001b[0m\u001b[0m\n\u001b[1;32m----> 3\u001b[1;33m \u001b[0mtupla_s\u001b[0m\u001b[1;33m[\u001b[0m\u001b[1;36m2\u001b[0m\u001b[1;33m:\u001b[0m\u001b[1;33m]\u001b[0m \u001b[1;33m=\u001b[0m \u001b[1;33m[\u001b[0m\u001b[1;34m\"E3\"\u001b[0m\u001b[1;33m,\u001b[0m \u001b[1;34m\"E4\"\u001b[0m\u001b[1;33m,\u001b[0m \u001b[1;34m\"E5\"\u001b[0m\u001b[1;33m,\u001b[0m \u001b[1;34m\"E6\"\u001b[0m\u001b[1;33m]\u001b[0m\u001b[1;33m\u001b[0m\u001b[1;33m\u001b[0m\u001b[0m\n\u001b[0m\u001b[0;32m      4\u001b[0m \u001b[0mprint\u001b[0m\u001b[1;33m(\u001b[0m \u001b[0mtupla_s\u001b[0m \u001b[1;33m)\u001b[0m\u001b[1;33m\u001b[0m\u001b[1;33m\u001b[0m\u001b[0m\n",
      "\u001b[1;31mTypeError\u001b[0m: 'tuple' object does not support item assignment"
     ]
    }
   ],
   "source": [
    "# NO SE PUEDE!!!\n",
    "\n",
    "# Prolongar tuplas:\n",
    "\n",
    "tupla_s[2:] = [\"E3\", \"E4\", \"E5\", \"E6\"]\n",
    "print( tupla_s )"
   ]
  },
  {
   "cell_type": "code",
   "execution_count": 168,
   "metadata": {},
   "outputs": [
    {
     "ename": "AttributeError",
     "evalue": "'tuple' object has no attribute 'append'",
     "output_type": "error",
     "traceback": [
      "\u001b[1;31m---------------------------------------------------------------------------\u001b[0m",
      "\u001b[1;31mAttributeError\u001b[0m                            Traceback (most recent call last)",
      "\u001b[1;32m<ipython-input-168-ee129da0444d>\u001b[0m in \u001b[0;36m<module>\u001b[1;34m\u001b[0m\n\u001b[0;32m      2\u001b[0m \u001b[1;33m\u001b[0m\u001b[0m\n\u001b[0;32m      3\u001b[0m \u001b[1;31m# Añadir elementos:\u001b[0m\u001b[1;33m\u001b[0m\u001b[1;33m\u001b[0m\u001b[1;33m\u001b[0m\u001b[0m\n\u001b[1;32m----> 4\u001b[1;33m \u001b[0mtupla\u001b[0m\u001b[1;33m.\u001b[0m\u001b[0mappend\u001b[0m\u001b[1;33m(\u001b[0m\u001b[1;34m\"e12\"\u001b[0m\u001b[1;33m)\u001b[0m\u001b[1;33m\u001b[0m\u001b[1;33m\u001b[0m\u001b[0m\n\u001b[0m",
      "\u001b[1;31mAttributeError\u001b[0m: 'tuple' object has no attribute 'append'"
     ]
    }
   ],
   "source": [
    "# NO SE PUEDE!!!\n",
    "\n",
    "# Añadir elementos:\n",
    "tupla.append(\"e12\")"
   ]
  },
  {
   "cell_type": "code",
   "execution_count": 171,
   "metadata": {},
   "outputs": [
    {
     "ename": "TypeError",
     "evalue": "'tuple' object does not support item assignment",
     "output_type": "error",
     "traceback": [
      "\u001b[1;31m---------------------------------------------------------------------------\u001b[0m",
      "\u001b[1;31mTypeError\u001b[0m                                 Traceback (most recent call last)",
      "\u001b[1;32m<ipython-input-171-efc73d1070f9>\u001b[0m in \u001b[0;36m<module>\u001b[1;34m\u001b[0m\n\u001b[0;32m      2\u001b[0m \u001b[1;33m\u001b[0m\u001b[0m\n\u001b[0;32m      3\u001b[0m \u001b[1;31m# Modificar el valor de elementos en una tupla creada:\u001b[0m\u001b[1;33m\u001b[0m\u001b[1;33m\u001b[0m\u001b[1;33m\u001b[0m\u001b[0m\n\u001b[1;32m----> 4\u001b[1;33m \u001b[0mtupla_s\u001b[0m\u001b[1;33m[\u001b[0m\u001b[1;36m1\u001b[0m\u001b[1;33m]\u001b[0m \u001b[1;33m=\u001b[0m \u001b[1;34m\"E2\"\u001b[0m\u001b[1;33m\u001b[0m\u001b[1;33m\u001b[0m\u001b[0m\n\u001b[0m",
      "\u001b[1;31mTypeError\u001b[0m: 'tuple' object does not support item assignment"
     ]
    }
   ],
   "source": [
    "# NO SE PUEDE!!!\n",
    "\n",
    "# Modificar el valor de elementos en una tupla creada:\n",
    "tupla_s[1] = \"E2\""
   ]
  },
  {
   "cell_type": "code",
   "execution_count": 172,
   "metadata": {},
   "outputs": [
    {
     "ename": "AttributeError",
     "evalue": "'tuple' object has no attribute 'pop'",
     "output_type": "error",
     "traceback": [
      "\u001b[1;31m---------------------------------------------------------------------------\u001b[0m",
      "\u001b[1;31mAttributeError\u001b[0m                            Traceback (most recent call last)",
      "\u001b[1;32m<ipython-input-172-1bbc2d36e692>\u001b[0m in \u001b[0;36m<module>\u001b[1;34m\u001b[0m\n\u001b[0;32m      3\u001b[0m \u001b[1;31m# Eliminar un elemento en una posición concreta:\u001b[0m\u001b[1;33m\u001b[0m\u001b[1;33m\u001b[0m\u001b[1;33m\u001b[0m\u001b[0m\n\u001b[0;32m      4\u001b[0m \u001b[1;33m\u001b[0m\u001b[0m\n\u001b[1;32m----> 5\u001b[1;33m \u001b[0mtupla_fuera_e12\u001b[0m \u001b[1;33m=\u001b[0m \u001b[0mtupla\u001b[0m\u001b[1;33m.\u001b[0m\u001b[0mpop\u001b[0m\u001b[1;33m(\u001b[0m\u001b[1;36m11\u001b[0m\u001b[1;33m)\u001b[0m\u001b[1;33m\u001b[0m\u001b[1;33m\u001b[0m\u001b[0m\n\u001b[0m",
      "\u001b[1;31mAttributeError\u001b[0m: 'tuple' object has no attribute 'pop'"
     ]
    }
   ],
   "source": [
    "# NO SE PUEDE!!!\n",
    "\n",
    "# Eliminar un elemento en una posición concreta:\n",
    "\n",
    "tupla_fuera_e12 = tupla.pop(11)"
   ]
  },
  {
   "cell_type": "code",
   "execution_count": 174,
   "metadata": {},
   "outputs": [
    {
     "name": "stdout",
     "output_type": "stream",
     "text": [
      "tupla2 ANTES del .sort():    ('e4', 'e8', 'e7', 'e1', 'e0', 'e2', 'e6', 'e3', 'e4', 'e5', 'e4')\n"
     ]
    },
    {
     "ename": "AttributeError",
     "evalue": "'tuple' object has no attribute 'sort'",
     "output_type": "error",
     "traceback": [
      "\u001b[1;31m---------------------------------------------------------------------------\u001b[0m",
      "\u001b[1;31mAttributeError\u001b[0m                            Traceback (most recent call last)",
      "\u001b[1;32m<ipython-input-174-459decf301fe>\u001b[0m in \u001b[0;36m<module>\u001b[1;34m\u001b[0m\n\u001b[0;32m      3\u001b[0m \u001b[0mtupla2\u001b[0m \u001b[1;33m=\u001b[0m \u001b[1;33m(\u001b[0m\u001b[1;34m\"e4\"\u001b[0m\u001b[1;33m,\u001b[0m \u001b[1;34m\"e8\"\u001b[0m\u001b[1;33m,\u001b[0m \u001b[1;34m\"e7\"\u001b[0m\u001b[1;33m,\u001b[0m \u001b[1;34m\"e1\"\u001b[0m\u001b[1;33m,\u001b[0m \u001b[1;34m\"e0\"\u001b[0m\u001b[1;33m,\u001b[0m \u001b[1;34m\"e2\"\u001b[0m\u001b[1;33m,\u001b[0m \u001b[1;34m\"e6\"\u001b[0m\u001b[1;33m,\u001b[0m \u001b[1;34m\"e3\"\u001b[0m\u001b[1;33m,\u001b[0m \u001b[1;34m\"e4\"\u001b[0m\u001b[1;33m,\u001b[0m \u001b[1;34m\"e5\"\u001b[0m\u001b[1;33m,\u001b[0m \u001b[1;34m\"e4\"\u001b[0m\u001b[1;33m)\u001b[0m\u001b[1;33m\u001b[0m\u001b[1;33m\u001b[0m\u001b[0m\n\u001b[0;32m      4\u001b[0m \u001b[0mprint\u001b[0m\u001b[1;33m(\u001b[0m\u001b[1;34m\"tupla2 ANTES del .sort():   \"\u001b[0m\u001b[1;33m,\u001b[0m \u001b[0mtupla2\u001b[0m\u001b[1;33m)\u001b[0m\u001b[1;33m\u001b[0m\u001b[1;33m\u001b[0m\u001b[0m\n\u001b[1;32m----> 5\u001b[1;33m \u001b[0mtupla2_ord_asc\u001b[0m \u001b[1;33m=\u001b[0m \u001b[0mtupla2\u001b[0m\u001b[1;33m.\u001b[0m\u001b[0msort\u001b[0m\u001b[1;33m(\u001b[0m\u001b[1;33m)\u001b[0m\u001b[1;33m\u001b[0m\u001b[1;33m\u001b[0m\u001b[0m\n\u001b[0m\u001b[0;32m      6\u001b[0m \u001b[0mprint\u001b[0m\u001b[1;33m(\u001b[0m\u001b[1;34m\"tupla2 DESPUES del .sort(): \"\u001b[0m\u001b[1;33m,\u001b[0m \u001b[0mtupla2\u001b[0m\u001b[1;33m)\u001b[0m\u001b[1;33m\u001b[0m\u001b[1;33m\u001b[0m\u001b[0m\n\u001b[0;32m      7\u001b[0m \u001b[0mprint\u001b[0m\u001b[1;33m(\u001b[0m\u001b[1;34m\"tupla2_ord_asc:             \"\u001b[0m\u001b[1;33m,\u001b[0m \u001b[0mtupla2_ord_asc\u001b[0m\u001b[1;33m)\u001b[0m\u001b[1;33m\u001b[0m\u001b[1;33m\u001b[0m\u001b[0m\n",
      "\u001b[1;31mAttributeError\u001b[0m: 'tuple' object has no attribute 'sort'"
     ]
    }
   ],
   "source": [
    "# Ordenar tuplas (en orden ascendente) (modificando la tupla original)\n",
    "\n",
    "tupla2 = (\"e4\", \"e8\", \"e7\", \"e1\", \"e0\", \"e2\", \"e6\", \"e3\", \"e4\", \"e5\", \"e4\")\n",
    "print(\"tupla2 ANTES del .sort():   \", tupla2)\n",
    "tupla2_ord_asc = tupla2.sort()\n",
    "print(\"tupla2 DESPUES del .sort(): \", tupla2)\n",
    "print(\"tupla2_ord_asc:             \", tupla2_ord_asc)"
   ]
  },
  {
   "cell_type": "markdown",
   "metadata": {},
   "source": [
    "### 3. Diccionarios\n",
    "\n",
    "Los diccionarios son un conjunto de claves (keys) asociadas a valores (values).\n",
    "Sabiendo una clave podemos encontrar el valor de dicha clave"
   ]
  },
  {
   "cell_type": "code",
   "execution_count": 260,
   "metadata": {},
   "outputs": [],
   "source": [
    "diccionario = {\n",
    "                \"Clave1\": \"Valor1\",\n",
    "                \"Clave2\": \"Valor2\",\n",
    "                \"Clave3\": [\"Valor3\",\"Valor4\"],\n",
    "}"
   ]
  },
  {
   "cell_type": "code",
   "execution_count": 247,
   "metadata": {},
   "outputs": [
    {
     "name": "stdout",
     "output_type": "stream",
     "text": [
      "{'Clave1': 'Valor1', 'Clave2': 'Valor2', 'Clave3': ['Valor3', 'Valor4']}\n"
     ]
    }
   ],
   "source": [
    "print(diccionario)"
   ]
  },
  {
   "cell_type": "code",
   "execution_count": 214,
   "metadata": {},
   "outputs": [
    {
     "name": "stdout",
     "output_type": "stream",
     "text": [
      "3\n",
      "3\n"
     ]
    }
   ],
   "source": [
    "# Conocer CUÁNTAS claves (keys) tiene un diccionario (2 maneras):\n",
    "\n",
    "print( len(diccionario) )\n",
    "print( len(diccionario.keys()) )"
   ]
  },
  {
   "cell_type": "code",
   "execution_count": 270,
   "metadata": {},
   "outputs": [
    {
     "name": "stdout",
     "output_type": "stream",
     "text": [
      "dict_keys(['Clave1', 'Clave3'])\n",
      "Tipo:  <class 'dict_keys'>\n"
     ]
    }
   ],
   "source": [
    "# Conocer CUÁLES son las claves (keys) de un diccionario:\n",
    "\n",
    "print( diccionario.keys() )\n",
    "print(\"Tipo: \",type(diccionario.keys()))"
   ]
  },
  {
   "cell_type": "code",
   "execution_count": 225,
   "metadata": {},
   "outputs": [
    {
     "data": {
      "text/plain": [
       "'Clave1'"
      ]
     },
     "execution_count": 225,
     "metadata": {},
     "output_type": "execute_result"
    }
   ],
   "source": [
    "# Acceder a la PRIMERA de las claves.\n",
    "#\n",
    "# ATENCIÓN!!! --> Debe convertirse primero el objeto dict_keys a objeto lista\n",
    "#\n",
    "\n",
    "claves_lista = list(diccionario.keys())\n",
    "\n",
    "claves_lista[0]"
   ]
  },
  {
   "cell_type": "code",
   "execution_count": 246,
   "metadata": {},
   "outputs": [
    {
     "data": {
      "text/plain": [
       "dict_values(['Valor1', 'Valor2', ['Valor3', 'Valor4']])"
      ]
     },
     "execution_count": 246,
     "metadata": {},
     "output_type": "execute_result"
    }
   ],
   "source": [
    "# Conocer CUÁLES son los valores (values) que tiene un diccionario:\n",
    "\n",
    "diccionario.values()"
   ]
  },
  {
   "cell_type": "code",
   "execution_count": 252,
   "metadata": {},
   "outputs": [
    {
     "data": {
      "text/plain": [
       "'Valor2'"
      ]
     },
     "execution_count": 252,
     "metadata": {},
     "output_type": "execute_result"
    }
   ],
   "source": [
    "# Acceder a los elementos que hay almacenados en una cierta clave (key):\n",
    "\n",
    "diccionario[\"Clave2\"]"
   ]
  },
  {
   "cell_type": "code",
   "execution_count": 271,
   "metadata": {},
   "outputs": [
    {
     "ename": "KeyError",
     "evalue": "'Clave8'",
     "output_type": "error",
     "traceback": [
      "\u001b[1;31m---------------------------------------------------------------------------\u001b[0m",
      "\u001b[1;31mKeyError\u001b[0m                                  Traceback (most recent call last)",
      "\u001b[1;32m<ipython-input-271-4b87b8f8acf3>\u001b[0m in \u001b[0;36m<module>\u001b[1;34m\u001b[0m\n\u001b[0;32m      1\u001b[0m \u001b[1;31m# Acceder a los elementos almacenados en una clave que no existe da un KeyError:\u001b[0m\u001b[1;33m\u001b[0m\u001b[1;33m\u001b[0m\u001b[1;33m\u001b[0m\u001b[0m\n\u001b[0;32m      2\u001b[0m \u001b[1;33m\u001b[0m\u001b[0m\n\u001b[1;32m----> 3\u001b[1;33m \u001b[0mdiccionario\u001b[0m\u001b[1;33m[\u001b[0m\u001b[1;34m\"Clave8\"\u001b[0m\u001b[1;33m]\u001b[0m\u001b[1;33m\u001b[0m\u001b[1;33m\u001b[0m\u001b[0m\n\u001b[0m",
      "\u001b[1;31mKeyError\u001b[0m: 'Clave8'"
     ]
    }
   ],
   "source": [
    "# Acceder a los elementos almacenados en una clave que no existe da un KeyError:\n",
    "\n",
    "diccionario[\"Clave8\"]"
   ]
  },
  {
   "cell_type": "code",
   "execution_count": 272,
   "metadata": {},
   "outputs": [],
   "source": [
    "# Añadir valores (values) y claves (keys) al diccionario:\n",
    "\n",
    "diccionario[\"Clave4\"] = \"Valor5\""
   ]
  },
  {
   "cell_type": "code",
   "execution_count": 273,
   "metadata": {},
   "outputs": [
    {
     "data": {
      "text/plain": [
       "{'Clave1': 'Valor1', 'Clave3': ['Valor3', 'Valor4'], 'Clave4': 'Valor5'}"
      ]
     },
     "execution_count": 273,
     "metadata": {},
     "output_type": "execute_result"
    }
   ],
   "source": [
    "diccionario"
   ]
  },
  {
   "cell_type": "code",
   "execution_count": 257,
   "metadata": {},
   "outputs": [
    {
     "name": "stdout",
     "output_type": "stream",
     "text": [
      "La Clave3 existe en el diccionario:  True\n",
      "La Clave7 existe en el diccionario:  False\n"
     ]
    }
   ],
   "source": [
    "# Evaluar si una cierta clave existe en un diccionario:\n",
    "\n",
    "print(\"La Clave3 existe en el diccionario: \",\"Clave3\" in diccionario)\n",
    "print(\"La Clave7 existe en el diccionario: \",\"Clave7\" in diccionario)"
   ]
  },
  {
   "cell_type": "code",
   "execution_count": 261,
   "metadata": {},
   "outputs": [
    {
     "name": "stdout",
     "output_type": "stream",
     "text": [
      "Se eliminarons los valores Valor2 del diccionario\n",
      "{'Clave1': 'Valor1', 'Clave3': ['Valor3', 'Valor4']}\n"
     ]
    }
   ],
   "source": [
    "# Eliminación de los valores de una clave en un diccionario:\n",
    "\n",
    "valores_eliminados = diccionario.pop(\"Clave2\")\n",
    "print(\"Se eliminarons los valores {} del diccionario\".format(valores_eliminados))\n",
    "print(diccionario)"
   ]
  },
  {
   "cell_type": "code",
   "execution_count": 269,
   "metadata": {},
   "outputs": [
    {
     "name": "stdout",
     "output_type": "stream",
     "text": [
      "l1_e1\n",
      "('t0_e0', 't0_e1')\n"
     ]
    }
   ],
   "source": [
    "# Cada tipo de estructura de datos puede almacenar los otros!\n",
    "\n",
    "# Lista con listas dentro\n",
    "\n",
    "lista_de_listas =[\n",
    "        [\"l0_e0\", \"l0_e1\"],\n",
    "        [\"l1_e0\", \"l1_e1\"],\n",
    "        [\"l2_e0\", \"l2_e1\"],\n",
    "        [\"l3_e0\", \"l3_e1\"]\n",
    "        ] \n",
    "\n",
    "print(lista_de_listas[1][1])\n",
    "\n",
    "# Diccionario con tuplas como valores\n",
    "\n",
    "dict_tuplas = {\n",
    "        \"Clave_tupla0\": (\"t0_e0\", \"t0_e1\"),\n",
    "        \"Clave_tupla1\": (\"t1_e0\", \"t1_e1\")\n",
    "        }\n",
    "\n",
    "\n",
    "print(dict_tuplas[\"Clave_tupla0\"])"
   ]
  }
 ],
 "metadata": {
  "kernelspec": {
   "display_name": "Python 3",
   "language": "python",
   "name": "python3"
  },
  "language_info": {
   "codemirror_mode": {
    "name": "ipython",
    "version": 3
   },
   "file_extension": ".py",
   "mimetype": "text/x-python",
   "name": "python",
   "nbconvert_exporter": "python",
   "pygments_lexer": "ipython3",
   "version": "3.7.3"
  }
 },
 "nbformat": 4,
 "nbformat_minor": 2
}
