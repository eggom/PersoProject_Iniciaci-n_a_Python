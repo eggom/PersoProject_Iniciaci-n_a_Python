{
 "cells": [
  {
   "cell_type": "markdown",
   "metadata": {},
   "source": [
    "## Clases en Python\n",
    "____\n",
    "\n",
    "Python es un lenguaje orientado a objetos.\n",
    "\n",
    "¿Eso que significa?\n",
    "\n",
    "Pues que pese a que podamos programar de forma \"funcional\" (esto es simplemente enviando datos a través de funciones) muchas de las ventajas de python están en su uso de clases.\n",
    "\n",
    "Las clases en python se definen de la forma (en python 3):\n",
    "   \n",
    "<code>class Clase:</code>\n",
    "\n",
    "<code>    def metodo1(self): -->TODOS LOS METODOS DE CLASE TOMAN 'self' COMO PRIMER ARGUMENTO </code>\n",
    "        #método que tienen los objetos de la clase\n",
    "    \n",
    "<code>    def metodo2(self):</code>\n",
    "        #otro método que tienen los objetos de la clase\n",
    "\n",
    "#### Creamos la clase 'MovBasicosCoche'"
   ]
  },
  {
   "cell_type": "code",
   "execution_count": 31,
   "metadata": {},
   "outputs": [],
   "source": [
    "class MovBasicosCoche:\n",
    "    \n",
    "    def girar_izquierda(self):\n",
    "        print(\"<--- Girando a la izquierda\")\n",
    "\n",
    "    def girar_derecha(self):\n",
    "        print(\"Girando a la derecha --->\")\n",
    "\n",
    "    def acelerar(self):\n",
    "        # podemos usar pass cuando definimos una funcion, para que no haga nada\n",
    "        pass\n",
    "\n",
    "    def frenar(self):\n",
    "        pass"
   ]
  },
  {
   "cell_type": "markdown",
   "metadata": {},
   "source": [
    "Las clases se pueden considerar como plantillas que se pueden usar para generar objetos.\n",
    "\n",
    "Por ejemplo la plantilla (clase) 'MovBasicosCoche' nos da movimientos posibles para un coche básico.\n",
    "\n",
    "A continuación haremos lo que en jerga de desarrollo se conoce como _\"instanciar una clase\"_. Es decir crear una instancia (objeto) de la clase MovBasicosCoche."
   ]
  },
  {
   "cell_type": "code",
   "execution_count": 27,
   "metadata": {},
   "outputs": [],
   "source": [
    "# IMPORTANTE al instanciar una clase!!!\n",
    "#\n",
    "#\n",
    "# No es lo mismo:\n",
    "#\n",
    "#    · Objeto_Nuevo = Clase\n",
    "#\n",
    "# que:\n",
    "#\n",
    "#    · Objeto_Nuevo = Clase()\n",
    "#\n",
    "#\n",
    "# SIEMPRE se debe crear ----> Objeto_Nuevo = Clase()\n",
    "\n",
    "Coche_Paco_no_parentesis = MovBasicosCoche\n",
    "\n",
    "Coche_Paco_si_parentesis = MovBasicosCoche()"
   ]
  },
  {
   "cell_type": "code",
   "execution_count": 28,
   "metadata": {},
   "outputs": [
    {
     "name": "stdout",
     "output_type": "stream",
     "text": [
      "<class '__main__.MovBasicosCoche'>\n",
      "<__main__.MovBasicosCoche object at 0x0000019C31BE9048>\n"
     ]
    }
   ],
   "source": [
    "print(Coche_Paco_no_parentesis)\n",
    "print(Coche_Paco_si_parentesis)"
   ]
  },
  {
   "cell_type": "code",
   "execution_count": 29,
   "metadata": {},
   "outputs": [
    {
     "name": "stdout",
     "output_type": "stream",
     "text": [
      "<class 'type'>\n",
      "<class '__main__.MovBasicosCoche'>\n"
     ]
    }
   ],
   "source": [
    "print(type(Coche_Paco_no_parentesis))\n",
    "print(type(Coche_Paco_si_parentesis))"
   ]
  },
  {
   "cell_type": "code",
   "execution_count": 30,
   "metadata": {},
   "outputs": [
    {
     "name": "stdout",
     "output_type": "stream",
     "text": [
      "Girando a la derecha --->\n",
      "<--- Girando a la izquierda\n"
     ]
    }
   ],
   "source": [
    "# Se puede acceder a los métodos definidos en la clase:\n",
    "\n",
    "Coche_Paco_si_parentesis.girar_derecha()\n",
    "Coche_Paco_si_parentesis.girar_izquierda()\n",
    "Coche_Paco_si_parentesis.acelerar()"
   ]
  },
  {
   "cell_type": "markdown",
   "metadata": {},
   "source": [
    "Similar a las funciones a las clases se las puede pasar ciertos argumentos cuando se crea un objeto de dicha clase.\n",
    "\n",
    "Con la clase MovBasicosCoche que tenemos, todos los objetos instanciando dicha clase serán 100% iguales.\n",
    "\n",
    "¿Como podriamos generar coches que tengan distinto color, por ejemplo?\n",
    "\n",
    "Para eso podemos usar el método especial **<code>\\__init__</code>** que se ejecuta cuando se crea un objeto de una Clase.\n",
    "\n",
    "Creamos la clase **ColorCoche**:"
   ]
  },
  {
   "cell_type": "code",
   "execution_count": 32,
   "metadata": {},
   "outputs": [],
   "source": [
    "class ColorCoche:\n",
    "\n",
    "    def __init__(self, color):\n",
    "        self.color = color  # <-- Esto es un atributo\n",
    "    \n",
    "    def describir(self):\n",
    "        print(\"Coche de color {}\".format(self.color))\n",
    "        \n",
    "    def girar_izquierda(self):\n",
    "        print(\"<--- Girando a la izquierda\")\n",
    "\n",
    "    def girar_derecha(self):\n",
    "        print(\"Girando a la derecha --->\")\n",
    "\n",
    "    def acelerar(self):\n",
    "        # podemos usar pass cuando definimos una funcion, para que no haga nada\n",
    "        pass\n",
    "\n",
    "    def frenar(self):\n",
    "        pass"
   ]
  },
  {
   "cell_type": "code",
   "execution_count": 50,
   "metadata": {},
   "outputs": [],
   "source": [
    "# Instanciamos un objeto hacia esta clase: (2 maneras)\n",
    "\n",
    "coche_rojo = ColorCoche(\"rojo\")\n",
    "cocherojo  = ColorCoche(color = \"rojo\")"
   ]
  },
  {
   "cell_type": "code",
   "execution_count": 51,
   "metadata": {},
   "outputs": [
    {
     "name": "stdout",
     "output_type": "stream",
     "text": [
      "<class '__main__.ColorCoche'>\n",
      "<class '__main__.ColorCoche'>\n"
     ]
    }
   ],
   "source": [
    "# El tipo de coche_rojo será ColorCoche:\n",
    "\n",
    "print(type(coche_rojo))\n",
    "print(type(cocherojo))\n"
   ]
  },
  {
   "cell_type": "code",
   "execution_count": 52,
   "metadata": {},
   "outputs": [
    {
     "name": "stdout",
     "output_type": "stream",
     "text": [
      "Girando a la derecha --->\n",
      "Girando a la derecha --->\n",
      "Coche de color rojo\n",
      "Coche de color rojo\n",
      "rojo\n",
      "rojo\n"
     ]
    }
   ],
   "source": [
    "# Y como tal tendremos acceso a sus métodos y atributos:\n",
    "\n",
    "# Método\n",
    "coche_rojo.girar_derecha()\n",
    "cocherojo.girar_derecha()\n",
    "\n",
    "# Método\n",
    "coche_rojo.describir()\n",
    "cocherojo.describir()\n",
    "\n",
    "# Atributo\n",
    "print(coche_rojo.color)\n",
    "print(cocherojo.color)"
   ]
  },
  {
   "cell_type": "markdown",
   "metadata": {},
   "source": [
    "#### Los atributos (o el estado) en una clase:\n",
    "\n",
    "Esta es una de las grandes ventajas y funcionalidades de las clases en Python.\n",
    "\n",
    "Las clases pueden guardar información en el tiempo, lo que se llama el estado.\n",
    "\n",
    "#### IMPORTANTE!!!\n",
    "\n",
    "Se pueden añadir atributos a un objeto creado con una clase:"
   ]
  },
  {
   "cell_type": "code",
   "execution_count": 53,
   "metadata": {},
   "outputs": [],
   "source": [
    "# Añadir la matrícula a coche_rojo pero no a cocherojo:\n",
    "\n",
    "coche_rojo.matricula = \"BN64 AYU\""
   ]
  },
  {
   "cell_type": "code",
   "execution_count": 54,
   "metadata": {},
   "outputs": [
    {
     "name": "stdout",
     "output_type": "stream",
     "text": [
      "BN64 AYU\n"
     ]
    }
   ],
   "source": [
    "print(coche_rojo.matricula)"
   ]
  },
  {
   "cell_type": "code",
   "execution_count": 55,
   "metadata": {},
   "outputs": [
    {
     "ename": "AttributeError",
     "evalue": "'ColorCoche' object has no attribute 'matricula'",
     "output_type": "error",
     "traceback": [
      "\u001b[1;31m---------------------------------------------------------------------------\u001b[0m",
      "\u001b[1;31mAttributeError\u001b[0m                            Traceback (most recent call last)",
      "\u001b[1;32m<ipython-input-55-8f2c5d73e948>\u001b[0m in \u001b[0;36m<module>\u001b[1;34m\u001b[0m\n\u001b[1;32m----> 1\u001b[1;33m \u001b[0mprint\u001b[0m\u001b[1;33m(\u001b[0m\u001b[0mcocherojo\u001b[0m\u001b[1;33m.\u001b[0m\u001b[0mmatricula\u001b[0m\u001b[1;33m)\u001b[0m\u001b[1;33m\u001b[0m\u001b[1;33m\u001b[0m\u001b[0m\n\u001b[0m",
      "\u001b[1;31mAttributeError\u001b[0m: 'ColorCoche' object has no attribute 'matricula'"
     ]
    }
   ],
   "source": [
    "print(cocherojo.matricula)"
   ]
  },
  {
   "cell_type": "code",
   "execution_count": 56,
   "metadata": {},
   "outputs": [
    {
     "ename": "TypeError",
     "evalue": "__init__() missing 1 required positional argument: 'color'",
     "output_type": "error",
     "traceback": [
      "\u001b[1;31m---------------------------------------------------------------------------\u001b[0m",
      "\u001b[1;31mTypeError\u001b[0m                                 Traceback (most recent call last)",
      "\u001b[1;32m<ipython-input-56-d08fc56b46ec>\u001b[0m in \u001b[0;36m<module>\u001b[1;34m\u001b[0m\n\u001b[0;32m      1\u001b[0m \u001b[1;31m# Si intento instanciar un objeto de la clase ColorCoche sin decirle el color...\u001b[0m\u001b[1;33m\u001b[0m\u001b[1;33m\u001b[0m\u001b[1;33m\u001b[0m\u001b[0m\n\u001b[0;32m      2\u001b[0m \u001b[1;33m\u001b[0m\u001b[0m\n\u001b[1;32m----> 3\u001b[1;33m \u001b[0mcoche_sin_color\u001b[0m \u001b[1;33m=\u001b[0m \u001b[0mColorCoche\u001b[0m\u001b[1;33m(\u001b[0m\u001b[1;33m)\u001b[0m\u001b[1;33m\u001b[0m\u001b[1;33m\u001b[0m\u001b[0m\n\u001b[0m",
      "\u001b[1;31mTypeError\u001b[0m: __init__() missing 1 required positional argument: 'color'"
     ]
    }
   ],
   "source": [
    "# Si intento instanciar un objeto de la clase ColorCoche sin decirle el color...\n",
    "\n",
    "coche_sin_color = ColorCoche()"
   ]
  },
  {
   "cell_type": "code",
   "execution_count": 57,
   "metadata": {},
   "outputs": [],
   "source": [
    "# Podemos evitar esto simplemente indicando argumentos por defecto en el metodo __init__\n",
    "\n",
    "class ColorCoche:\n",
    "\n",
    "    def __init__(self, color=\"sin_color\"):\n",
    "        self.color = color\n",
    "    \n",
    "    def describir(self):\n",
    "        print(\"Coche de color {}\".format(self.color))\n",
    "    \n",
    "    def girar_izquierda(self):\n",
    "        print(\"<--- Girando a la izquierda\")\n",
    "\n",
    "    def girar_derecha(self):\n",
    "        print(\"Girando a la derecha --->\")\n",
    "\n",
    "    def acelerar(self):\n",
    "        # podemos usar pass cuando definimos una funcion, para que no haga nada\n",
    "        pass\n",
    "\n",
    "    def frenar(self):\n",
    "        pass"
   ]
  },
  {
   "cell_type": "code",
   "execution_count": 59,
   "metadata": {},
   "outputs": [],
   "source": [
    "# Instancia nuevamente:\n",
    "\n",
    "coche_sin_color = ColorCoche()"
   ]
  },
  {
   "cell_type": "code",
   "execution_count": 60,
   "metadata": {},
   "outputs": [
    {
     "name": "stdout",
     "output_type": "stream",
     "text": [
      "Coche de color sin_color\n"
     ]
    }
   ],
   "source": [
    "coche_sin_color.describir()"
   ]
  },
  {
   "cell_type": "code",
   "execution_count": 61,
   "metadata": {},
   "outputs": [],
   "source": [
    "# De igual forma, podemos definir todas las variables que necesitamos para definir un objeto\n",
    "\n",
    "class CocheVariable:\n",
    "\n",
    "    def __init__(self, modelo, velocidad_maxima, color=\"negro\"):\n",
    "        self.color = color\n",
    "        self.modelo = modelo\n",
    "        self.velocidad_maxima = velocidad_maxima\n",
    "        self.velocidad = 0 #el coche empieza parado\n",
    "        \n",
    "    def describir(self):\n",
    "        print(\"Coche Modelo:{}. Color {}. Velocidad máxima: {}\".format(\n",
    "                self.modelo, self.color, self.velocidad_maxima))\n",
    "\n",
    "    def describir_estado(self):\n",
    "        if self.velocidad == 0:\n",
    "            print(\"El coche está parado\")\n",
    "        else:\n",
    "            print(\"El coche va a {} kilómetros por hora\".format(self.velocidad))\n",
    "    \n",
    "    def girar_izquierda(self):\n",
    "        print(\"<--- Girando a la izquierda\")\n",
    "\n",
    "    def girar_derecha(self):\n",
    "        print(\"Girando a la derecha --->\")\n",
    "\n",
    "    def acelerar(self):\n",
    "        # podemos usar pass cuando definimos una funcion, para que no haga nada\n",
    "        pass\n",
    "\n",
    "    def frenar(self):\n",
    "        pass"
   ]
  },
  {
   "cell_type": "code",
   "execution_count": 62,
   "metadata": {},
   "outputs": [
    {
     "name": "stdout",
     "output_type": "stream",
     "text": [
      "Coche Modelo:Peugeot 308. Color Azul. Velocidad máxima: 200\n",
      "El coche está parado\n"
     ]
    }
   ],
   "source": [
    "coche_manuel = CocheVariable(modelo=\"Peugeot 308\", color=\"Azul\", velocidad_maxima=200)\n",
    "coche_manuel.describir()\n",
    "coche_manuel.describir_estado()"
   ]
  },
  {
   "cell_type": "code",
   "execution_count": 65,
   "metadata": {},
   "outputs": [
    {
     "name": "stdout",
     "output_type": "stream",
     "text": [
      "Coche Modelo:Renault Laguna. Color Verde. Velocidad máxima: 240\n",
      "El coche está parado\n"
     ]
    }
   ],
   "source": [
    "coche_paco = CocheVariable(\"Renault Laguna\", 240, \"Verde\")\n",
    "coche_paco.describir()\n",
    "coche_paco.describir_estado()"
   ]
  },
  {
   "cell_type": "code",
   "execution_count": 66,
   "metadata": {},
   "outputs": [],
   "source": [
    "# Podemos en cualquier momento cambiar cualquier atributo de un objeto\n",
    "\n",
    "coche_manuel.velocidad = 100"
   ]
  },
  {
   "cell_type": "code",
   "execution_count": 70,
   "metadata": {},
   "outputs": [
    {
     "name": "stdout",
     "output_type": "stream",
     "text": [
      "El coche va a 100 kilómetros por hora\n"
     ]
    }
   ],
   "source": [
    "# Y si ahora le pedimos describir el estado en el que está coche_manuel...\n",
    "\n",
    "coche_manuel.describir_estado()"
   ]
  },
  {
   "cell_type": "markdown",
   "metadata": {},
   "source": [
    "#### Empleando el método mágico <code>\\__repr__</code>"
   ]
  },
  {
   "cell_type": "code",
   "execution_count": 72,
   "metadata": {},
   "outputs": [],
   "source": [
    "\"\"\"\n",
    "Uno de los usos principales de las clases es conservar el \"estado\" de un objeto.\n",
    "Si no usaramos clases para almacenar la velocidad de un coche, tendriamos que tener\n",
    "un diccionario con los identificadores de los coches y su velocidad, y cadad \n",
    "vez que cambiaramos la velocidad tendriamos que cambiar el diccionario.\n",
    "Ahora nos falta simplemente añadir las funciones para acelerar y tendremos un \n",
    "vehículo completo\n",
    "\"\"\"\n",
    "class Vehiculo:\n",
    "\n",
    "    def __init__(self, modelo, velocidad_maxima, color=\"negro\"):\n",
    "        self.color = color\n",
    "        self.modelo = modelo\n",
    "        self.velocidad_maxima = velocidad_maxima\n",
    "        self.velocidad = 0 #el coche empieza parado\n",
    "        \n",
    "    def describir(self):\n",
    "        descripcion = \"Vehiculo Modelo:{}. Color {}. Velocidad máxima: {}\".format(\n",
    "                self.modelo, self.color, self.velocidad_maxima)\n",
    "        return descripcion\n",
    "    \n",
    "    # El metodo __repr__ es un metodo mágico que se usa cuando queremos representar algo (con el metodo print)\n",
    "    def __repr__(self):\n",
    "        return self.describir()\n",
    "\n",
    "    def describir_estado(self):\n",
    "        if self.velocidad == 0:\n",
    "            print(\"El vehiculo está parado\")\n",
    "        elif self.velocidad > 0:\n",
    "            print(\"El vehiculo va a {} kilómetros por hora\".format(self.velocidad))\n",
    "        else:\n",
    "            print(\"El vehiculo va marcha atrás {} a kilómetros por hora\".format(self.velocidad))\n",
    "            \n",
    "    def girar_izquierda(self):\n",
    "        print(\"Girando a la izquierda\")\n",
    "\n",
    "    def girar_derecha(self):\n",
    "        print(\"Girando a la derecha\")\n",
    "\n",
    "    def acelerar(self, diferencia_velocidad):\n",
    "        print(\"Acelerando {} km/h\".format(diferencia_velocidad))\n",
    "        # abs devuelve un numero positivo si es negativo\n",
    "        self.velocidad += abs(diferencia_velocidad)\n",
    "        # min devuelve el valor minimo de una lista de números\n",
    "        self.velocidad = min(self.velocidad, self.velocidad_maxima)\n",
    "\n",
    "    def frenar(self, diferencia_velocidad):\n",
    "        print(\"Frenando {} km/h\".format(diferencia_velocidad))\n",
    "        self.velocidad -= abs(diferencia_velocidad)\n",
    "        # max nos devuelve el máximo valor de una lista de números\n",
    "        self.velocidad = max(self.velocidad, -5)"
   ]
  },
  {
   "cell_type": "code",
   "execution_count": 75,
   "metadata": {},
   "outputs": [
    {
     "name": "stdout",
     "output_type": "stream",
     "text": [
      "Vehiculo Modelo:Peugeot 308. Color Azul. Velocidad máxima: 200\n",
      "-----------\n",
      "El vehiculo está parado\n",
      "Acelerando 20 km/h\n",
      "El vehiculo va a 20 kilómetros por hora\n"
     ]
    }
   ],
   "source": [
    "coche_manuel = Vehiculo(modelo=\"Peugeot 308\", color=\"Azul\", velocidad_maxima=200)\n",
    "print(coche_manuel)\n",
    "print(\"-----------\")\n",
    "coche_manuel.describir_estado()\n",
    "coche_manuel.acelerar(20)\n",
    "coche_manuel.describir_estado()"
   ]
  },
  {
   "cell_type": "code",
   "execution_count": 76,
   "metadata": {},
   "outputs": [
    {
     "name": "stdout",
     "output_type": "stream",
     "text": [
      "Acelerando 20 km/h\n",
      "El vehiculo va a 40 kilómetros por hora\n"
     ]
    }
   ],
   "source": [
    "coche_manuel.acelerar(20)\n",
    "coche_manuel.describir_estado()"
   ]
  },
  {
   "cell_type": "code",
   "execution_count": 81,
   "metadata": {},
   "outputs": [
    {
     "name": "stdout",
     "output_type": "stream",
     "text": [
      "Frenando 60 km/h\n",
      "El vehiculo va marcha atrás -5 a kilómetros por hora\n"
     ]
    }
   ],
   "source": [
    "coche_manuel.frenar(60)\n",
    "coche_manuel.describir_estado()"
   ]
  },
  {
   "cell_type": "code",
   "execution_count": 82,
   "metadata": {},
   "outputs": [
    {
     "name": "stdout",
     "output_type": "stream",
     "text": [
      "Acelerando 5 km/h\n",
      "El vehiculo está parado\n"
     ]
    }
   ],
   "source": [
    "coche_manuel.acelerar(5)\n",
    "coche_manuel.describir_estado()"
   ]
  },
  {
   "cell_type": "markdown",
   "metadata": {},
   "source": [
    "### Herencia de clases\n",
    "\n",
    "Una de las principales ventajas de usar clases es que se pueden crear clases usando como plantillas otras clases (se dice que una clase \"hereda\" de otra).\n",
    "\n",
    "Ésto nos permite el crear una clase base con funcionalidades genéricas y despues crear clases avanzadas con diversas funcionalidades más específicas.\n",
    "\n",
    "Por ejemplo, podemos crear una clase Autobus, que no tiene marcha atrás y que tiene un limite de velocidad de 100."
   ]
  },
  {
   "cell_type": "code",
   "execution_count": 83,
   "metadata": {},
   "outputs": [],
   "source": [
    "class AutoBus(Vehiculo): #-->ESTO INDICA QUE AutoBus hereda de Vehiculo\n",
    "    \n",
    "    def acelerar(self, diferencia_velocidad):\n",
    "        print(\"Autobus acelerando {} km/h\".format(diferencia_velocidad))\n",
    "        # abs devuelve un numero positivo si es negativo\n",
    "        self.velocidad += abs(diferencia_velocidad)\n",
    "        # min devuelve el valor minimo de una lista de números\n",
    "        self.velocidad = min(self.velocidad, 100)\n",
    "        \n",
    "    def frenar(self, diferencia_velocidad):\n",
    "        print(\"Autobus frenando {} km/h\".format(diferencia_velocidad))\n",
    "        self.velocidad -= abs(diferencia_velocidad)\n",
    "        # max nos devuelve el máximo valor de una lista de números\n",
    "        self.velocidad = max(self.velocidad, 0)"
   ]
  },
  {
   "cell_type": "code",
   "execution_count": 89,
   "metadata": {},
   "outputs": [
    {
     "name": "stdout",
     "output_type": "stream",
     "text": [
      "El vehiculo está parado\n",
      "Autobus acelerando 50 km/h\n",
      "El vehiculo va a 50 kilómetros por hora\n",
      "Autobus acelerando 100 km/h\n",
      "El vehiculo va a 100 kilómetros por hora\n",
      "Autobus frenando 120 km/h\n",
      "El vehiculo está parado\n"
     ]
    },
    {
     "data": {
      "text/plain": [
       "Vehiculo Modelo:Mercedes. Color rojo. Velocidad máxima: 180"
      ]
     },
     "execution_count": 89,
     "metadata": {},
     "output_type": "execute_result"
    }
   ],
   "source": [
    "autobus_urbano = AutoBus(modelo=\"Mercedes\", color=\"rojo\", velocidad_maxima=180)\n",
    "autobus_urbano.describir_estado()\n",
    "autobus_urbano.acelerar(50)\n",
    "autobus_urbano.describir_estado()\n",
    "autobus_urbano.acelerar(100)\n",
    "autobus_urbano.describir_estado()\n",
    "autobus_urbano.frenar(120)\n",
    "autobus_urbano.describir_estado()\n",
    "autobus_urbano"
   ]
  },
  {
   "cell_type": "code",
   "execution_count": null,
   "metadata": {},
   "outputs": [],
   "source": []
  }
 ],
 "metadata": {
  "kernelspec": {
   "display_name": "Python 3",
   "language": "python",
   "name": "python3"
  },
  "language_info": {
   "codemirror_mode": {
    "name": "ipython",
    "version": 3
   },
   "file_extension": ".py",
   "mimetype": "text/x-python",
   "name": "python",
   "nbconvert_exporter": "python",
   "pygments_lexer": "ipython3",
   "version": "3.7.3"
  }
 },
 "nbformat": 4,
 "nbformat_minor": 2
}
