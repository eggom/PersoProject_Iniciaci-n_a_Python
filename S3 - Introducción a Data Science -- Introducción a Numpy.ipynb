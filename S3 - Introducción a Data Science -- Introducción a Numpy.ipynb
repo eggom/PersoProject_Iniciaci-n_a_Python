{
 "cells": [
  {
   "cell_type": "markdown",
   "metadata": {},
   "source": [
    "# Introducción a Numpy"
   ]
  },
  {
   "cell_type": "code",
   "execution_count": 246,
   "metadata": {},
   "outputs": [],
   "source": [
    "import sys\n",
    "import numpy as np"
   ]
  },
  {
   "cell_type": "markdown",
   "metadata": {},
   "source": [
    "## Creación de Arrays\n",
    "\n",
    "Los arrays son ligeramente diferentes a las listas.\n",
    "\n",
    "### Arrays 1-Dimensionales\n",
    "\n",
    "#### Cositas comunes"
   ]
  },
  {
   "cell_type": "code",
   "execution_count": 308,
   "metadata": {},
   "outputs": [],
   "source": [
    "# Creación de un array con enteros en su interior:\n",
    "\n",
    "array_1D_int = np.array([1, 2, 3, 4])"
   ]
  },
  {
   "cell_type": "code",
   "execution_count": 248,
   "metadata": {},
   "outputs": [
    {
     "data": {
      "text/plain": [
       "array([1, 2, 3, 4])"
      ]
     },
     "execution_count": 248,
     "metadata": {},
     "output_type": "execute_result"
    }
   ],
   "source": [
    "array_1D_int"
   ]
  },
  {
   "cell_type": "code",
   "execution_count": 249,
   "metadata": {},
   "outputs": [
    {
     "name": "stdout",
     "output_type": "stream",
     "text": [
      "[1 2 3 4]\n"
     ]
    }
   ],
   "source": [
    "print(array_1D_int)"
   ]
  },
  {
   "cell_type": "code",
   "execution_count": 250,
   "metadata": {},
   "outputs": [
    {
     "data": {
      "text/plain": [
       "numpy.ndarray"
      ]
     },
     "execution_count": 250,
     "metadata": {},
     "output_type": "execute_result"
    }
   ],
   "source": [
    "type(array_1D_int)"
   ]
  },
  {
   "cell_type": "code",
   "execution_count": 251,
   "metadata": {},
   "outputs": [
    {
     "data": {
      "text/plain": [
       "1"
      ]
     },
     "execution_count": 251,
     "metadata": {},
     "output_type": "execute_result"
    }
   ],
   "source": [
    "# Conocer la dimensión del array:\n",
    "\n",
    "array_1D_int.ndim"
   ]
  },
  {
   "cell_type": "code",
   "execution_count": 438,
   "metadata": {},
   "outputs": [
    {
     "name": "stdout",
     "output_type": "stream",
     "text": [
      "(4,)\n",
      "4\n",
      "4\n",
      "4\n"
     ]
    }
   ],
   "source": [
    "# Conocer el número de elementos dentros del array 1-Dimensional (4 maneras):\n",
    "\n",
    "print( array_1D_int.shape )\n",
    "print( array_1D_int.shape[0] )\n",
    "print( len(array_1D_int) )\n",
    "print( array_1D.size )\n"
   ]
  },
  {
   "cell_type": "code",
   "execution_count": 457,
   "metadata": {},
   "outputs": [
    {
     "name": "stdout",
     "output_type": "stream",
     "text": [
      "3\n",
      "[3 4]\n",
      "[1 2 3]\n",
      "[1 2]\n",
      "4\n",
      "[2 3]\n"
     ]
    }
   ],
   "source": [
    "# Acceder a los elementos internos de un array:\n",
    "#\n",
    "# (Muy similar a la listas)\n",
    "\n",
    "print( array_1D_int[2] )\n",
    "print( array_1D_int[2:] )\n",
    "print( array_1D_int[:-1] )\n",
    "print( array_1D_int[:2] )\n",
    "print( array_1D_int[-1] )\n",
    "print( array_1D_int[1:3] )"
   ]
  },
  {
   "cell_type": "code",
   "execution_count": 460,
   "metadata": {},
   "outputs": [
    {
     "name": "stdout",
     "output_type": "stream",
     "text": [
      "2\n",
      "3\n",
      "4\n",
      "5\n"
     ]
    }
   ],
   "source": [
    "# Iterar sobre elementos de un array:\n",
    "\n",
    "for num in array_1D_int:\n",
    "    print(num+1)"
   ]
  },
  {
   "cell_type": "code",
   "execution_count": 523,
   "metadata": {},
   "outputs": [
    {
     "data": {
      "text/plain": [
       "array([4, 5, 6, 7])"
      ]
     },
     "execution_count": 523,
     "metadata": {},
     "output_type": "execute_result"
    }
   ],
   "source": [
    "# Iteración \"pretty\"\n",
    "\n",
    "np.array([num+3 for num in array_1D_int])"
   ]
  },
  {
   "cell_type": "markdown",
   "metadata": {},
   "source": [
    "#### Algunos métodos interesantes en array 1-Dimensionales"
   ]
  },
  {
   "cell_type": "code",
   "execution_count": 306,
   "metadata": {},
   "outputs": [
    {
     "data": {
      "text/plain": [
       "dtype('int32')"
      ]
     },
     "execution_count": 306,
     "metadata": {},
     "output_type": "execute_result"
    }
   ],
   "source": [
    "# Conocer el tipo de variable que almacena el array:\n",
    "\n",
    "array_1D_int.dtype"
   ]
  },
  {
   "cell_type": "code",
   "execution_count": 309,
   "metadata": {},
   "outputs": [
    {
     "data": {
      "text/plain": [
       "array([1, 2, 3, 4])"
      ]
     },
     "execution_count": 309,
     "metadata": {},
     "output_type": "execute_result"
    }
   ],
   "source": [
    "array_1D_int"
   ]
  },
  {
   "cell_type": "code",
   "execution_count": 316,
   "metadata": {},
   "outputs": [
    {
     "name": "stdout",
     "output_type": "stream",
     "text": [
      "    .sum():  10\n",
      "   .prod():  24\n",
      " .cumsum():  [ 1  3  6 10]\n",
      ".cumprod():  [ 1  2  6 24]\n"
     ]
    }
   ],
   "source": [
    "# Para un array\n",
    "#\n",
    "# [x1, x2, x3, ···, xn]\n",
    "#\n",
    "# de n elementos.\n",
    "#\n",
    "# El método .sum() devuelve la suma x1+x2+x3+···+xn\n",
    "#\n",
    "# El método .prod() devuelve el producto x1*x2*x3*···*xn\n",
    "#\n",
    "# El método .cumsum() devuelve un array de n elementos [x1, x1+x2, x1+x2+x3, ···, x1+x2+···+xn]\n",
    "#\n",
    "# El método .cumprod() devuelve un array de n elementos [x1, x1*x2, x1*x2*x3, ···, x1*x2*···*xn]\n",
    "\n",
    "print( \"    .sum(): \", array_1D_int.sum() )\n",
    "print( \"   .prod(): \", array_1D_int.prod() )\n",
    "print( \" .cumsum(): \",array_1D_int.cumsum() )\n",
    "print( \".cumprod(): \",array_1D_int.cumprod() )"
   ]
  },
  {
   "cell_type": "code",
   "execution_count": 333,
   "metadata": {},
   "outputs": [
    {
     "name": "stdout",
     "output_type": "stream",
     "text": [
      "  .max():  4\n",
      "  .min():  1\n",
      " .mean():  2.5\n",
      "  .std():  1.118033988749895\n"
     ]
    }
   ],
   "source": [
    "# Para un array\n",
    "#\n",
    "# [x1, x2, x3, ···, xn]\n",
    "#\n",
    "# de n elementos.\n",
    "#\n",
    "# El método .max() devuelve el máximo de los elementos x1 ··· xn\n",
    "#\n",
    "# El método .min() devuelve el mínimo de los elementos x1 ··· xn\n",
    "#\n",
    "# El método .mean() devuelve la media de los n elementos (x1+x2+···+xn)/n\n",
    "#\n",
    "# El método .std() devuelve la desv. estandar de los n elementos.\n",
    "\n",
    "print( \"  .max(): \", array_1D_int.max() )\n",
    "print( \"  .min(): \", array_1D_int.min() )\n",
    "print( \" .mean(): \", array_1D_int.mean() )\n",
    "print( \"  .std(): \", array_1D_int.std() )"
   ]
  },
  {
   "cell_type": "code",
   "execution_count": 334,
   "metadata": {},
   "outputs": [
    {
     "data": {
      "text/plain": [
       "array([1, 1, 2, 2, 3, 3, 4, 4])"
      ]
     },
     "execution_count": 334,
     "metadata": {},
     "output_type": "execute_result"
    }
   ],
   "source": [
    "# Para un array\n",
    "#\n",
    "# [x1, x2, x3, ···, xn]\n",
    "#\n",
    "# de n elementos.\n",
    "#\n",
    "# El método .repeat(m), siendo m un número entero, devuelve un un array de n*m elementos de la forma:\n",
    "#\n",
    "# [x1, x1, ···, x1, x2, x2, ···, x2, x3, x3, ···, x3, ··· , xn, xn, ···, xn]\n",
    "# (- x1 m veces -) (- x2 m veces -) (- x3 m veces -)  ···   (- xn m veces -)\n",
    "#  \n",
    "array_1D_int.repeat(2)"
   ]
  },
  {
   "cell_type": "code",
   "execution_count": 374,
   "metadata": {},
   "outputs": [
    {
     "name": "stdout",
     "output_type": "stream",
     "text": [
      "El array [1 2 3 4] tiene 1 dimensión y 4 elementos\n",
      "Redimensionandolo a un array de 2x2 = 4 queda:\n",
      "\n",
      "[[1 2]\n",
      " [3 4]]\n"
     ]
    }
   ],
   "source": [
    "# Redimensionar un array 1-Dimensional de n elementos a un array de mayor dimensionalidad (i x j)\n",
    "#\n",
    "#\n",
    "# IMPORTANTE!! El producto i x j deberá ser igual a n.\n",
    "\n",
    "print(\"El array {} tiene 1 dimensión y {} elementos\".format(array_1D_int,array_1D_int.size))\n",
    "print(\"Redimensionandolo a un array de 2x2 = {} queda:\\n\".format(array_1D_int.size))\n",
    "print(array_1D_int.reshape(2,2))\n"
   ]
  },
  {
   "cell_type": "code",
   "execution_count": 387,
   "metadata": {},
   "outputs": [
    {
     "name": "stdout",
     "output_type": "stream",
     "text": [
      "                    Array Original:  [1.1111 2.2222 3.3333 4.4444 5.5555]\n",
      "Array Redondeado a 1 cifra decimal:  [1.1 2.2 3.3 4.4 5.6]\n"
     ]
    }
   ],
   "source": [
    "# Redondear los elementos float de un array a un número de decimales 'd'\n",
    "#\n",
    "\n",
    "d = 1\n",
    "\n",
    "array_1D_float = np.array([1.1111, 2.2222, 3.3333, 4.4444, 5.5555])\n",
    "print(\"                    Array Original: \", array_1D_float)\n",
    "print(\"Array Redondeado a 1 cifra decimal: \", array_1D_float.round(1))"
   ]
  },
  {
   "cell_type": "code",
   "execution_count": 417,
   "metadata": {},
   "outputs": [
    {
     "name": "stdout",
     "output_type": "stream",
     "text": [
      "                                        Array Original (array_1D_int_2) -->  [12, 8, 90, 5, 32]\n",
      "Ejecutamos array_1D_int_2_sorted = sorted(array_1D_int_2, reverse=True)\n",
      "                                                  array_1D_int_2_sorted -->  [90, 32, 12, 8, 5]\n",
      "                                                         array_1D_int_2 -->  [12, 8, 90, 5, 32]\n",
      "                                       Ejecutamos array_1D_int_2.sort()\n",
      "                                                  array_1D_int_2_sorted -->  [90, 32, 12, 8, 5]\n",
      "                                                         array_1D_int_2 -->  [5, 8, 12, 32, 90]\n"
     ]
    }
   ],
   "source": [
    "# Ordenación de los elementos de un array --> Igual que las listas!\n",
    "#\n",
    "# .sorted(array_to_sort) --> conserva invariable el array original.\n",
    "# array_to_sort.sort()   --> modifica el array ordenándolo\n",
    "#\n",
    "# Por defecto se ordena de modo ascendente. Para modificar a modo descendente --> reverse=True\n",
    "\n",
    "array_1D_int_2 = [12,8,90,5,32]\n",
    "print(\"                                        Array Original (array_1D_int_2) --> \",array_1D_int_2)\n",
    "array_1D_int_2_sorted = sorted(array_1D_int_2, reverse=True)\n",
    "print(\"Ejecutamos array_1D_int_2_sorted = sorted(array_1D_int_2, reverse=True)\")\n",
    "print(\"                                                  array_1D_int_2_sorted --> \",array_1D_int_2_sorted)\n",
    "print(\"                                                         array_1D_int_2 --> \",array_1D_int_2)\n",
    "array_1D_int_2.sort()\n",
    "print(\"                                       Ejecutamos array_1D_int_2.sort()\")\n",
    "print(\"                                                  array_1D_int_2_sorted --> \",array_1D_int_2_sorted)\n",
    "print(\"                                                         array_1D_int_2 --> \",array_1D_int_2)\n"
   ]
  },
  {
   "cell_type": "code",
   "execution_count": 285,
   "metadata": {},
   "outputs": [
    {
     "name": "stdout",
     "output_type": "stream",
     "text": [
      "Elementos en array son de tipo:  int32\n",
      "Array creado como:               [1 2 3 4]\n",
      "Array tras uso de .fill(8):  [8 8 8 8]\n"
     ]
    }
   ],
   "source": [
    "# Rellenar todas las posiciones de un array con un mismo valor:\n",
    "#\n",
    "# IMPORTANTE! Sólo podrán rellenarse con valores de la misma clase que la del array a rellenar!!!\n",
    "\n",
    "array_1D_int = np.array([1, 2, 3, 4])\n",
    "print(\"Elementos en array son de tipo: \",array_1D_int.dtype)\n",
    "print(\"Array creado como:              \", array_1D_int)\n",
    "array_1D_int.fill(8)\n",
    "print(\"Array tras uso de .fill(8): \", array_1D_int)"
   ]
  },
  {
   "cell_type": "code",
   "execution_count": 260,
   "metadata": {},
   "outputs": [
    {
     "name": "stdout",
     "output_type": "stream",
     "text": [
      "Array creado como:             ['a' 'b' 'c']\n",
      "Elementos en array son de tipo:  <U1\n",
      "Array tras uso de .fill(\"d\"):  ['d' 'd' 'd']\n"
     ]
    }
   ],
   "source": [
    "# Creación de un array de strings y posterior relleno con un mismo string:\n",
    "#\n",
    "#\n",
    "# IMPORTANTE!! Aunque inicialmente haya creado el array con solo strings, Numpy lo crea como tipo 'mixto' --> '<U1'\n",
    "\n",
    "array_1D_str = np.array([\"a\", \"b\", \"c\"])\n",
    "print(\"Array creado como:            \", array_1D_str)\n",
    "print(\"Elementos en array son de tipo: \",array_1D_str.dtype)\n",
    "array_1D_str.fill(\"d\")\n",
    "print(\"Array tras uso de .fill(\\\"d\\\"): \", array_1D_str)"
   ]
  },
  {
   "cell_type": "code",
   "execution_count": 261,
   "metadata": {},
   "outputs": [
    {
     "name": "stdout",
     "output_type": "stream",
     "text": [
      "Array creado como:               [1.1 2.2 3.3]\n",
      "Elementos en array son de tipo:  float64\n",
      "Array tras uso de .fill(4.4):    [4.4 4.4 4.4]\n"
     ]
    }
   ],
   "source": [
    "# Creación de un array de float y posterior relleno con un mismo float:\n",
    "\n",
    "array_1D_float = np.array([1.1, 2.2, 3.3])\n",
    "print(\"Array creado como:              \", array_1D_float)\n",
    "print(\"Elementos en array son de tipo: \",array_1D_float.dtype)\n",
    "array_1D_float.fill(4.4)\n",
    "print(\"Array tras uso de .fill(4.4):   \", array_1D_float)"
   ]
  },
  {
   "cell_type": "code",
   "execution_count": 268,
   "metadata": {},
   "outputs": [
    {
     "name": "stdout",
     "output_type": "stream",
     "text": [
      "Array creado como:               ['a' '2' '3' 'd']\n",
      "Elementos en array son de tipo:  <U1\n",
      "Array tras uso de .fill(4):    ['4' '4' '4' '4']\n",
      "El array no se crea con enteros... :(\n"
     ]
    }
   ],
   "source": [
    "# Creación de un array mixto y posterior relleno con un mismo entero:\n",
    "#\n",
    "#\n",
    "\n",
    "array_1D_mix = np.array([\"a\", 2, 3, \"d\"])\n",
    "print(\"Array creado como:              \", array_1D_mix)\n",
    "print(\"Elementos en array son de tipo: \",array_1D_mix.dtype)\n",
    "array_1D_mix.fill(4)\n",
    "print(\"Array tras uso de .fill(4):   \", array_1D_mix)\n",
    "print(\"El array no se crea con enteros... :(\")"
   ]
  },
  {
   "cell_type": "code",
   "execution_count": 290,
   "metadata": {},
   "outputs": [
    {
     "name": "stdout",
     "output_type": "stream",
     "text": [
      "Para el array [8 8 8 8], los IDs de los elementos que no son 0 son (array([0, 1, 2, 3], dtype=int64),)\n",
      "Para el array [2 0 2 0], los IDs de los elementos que no son 0 son (array([0, 2], dtype=int64),)\n"
     ]
    }
   ],
   "source": [
    "# Devuelve los índices dentro del array de aquellos elementos del array que son distions de 0:\n",
    "\n",
    "print(\"Para el array {}, los IDs de los elementos que no son 0 son {}\".format(\n",
    "                                                                               array_1D_int,\n",
    "                                                                               array_1D_int.nonzero()\n",
    "                                                                             ))\n",
    "print(\"Para el array {}, los IDs de los elementos que no son 0 son {}\".format(\n",
    "                                                                               np.array([2,0,2,0]),\n",
    "                                                                               np.array([2,0,2,0]).nonzero()\n",
    "                                                                             ))\n"
   ]
  },
  {
   "cell_type": "markdown",
   "metadata": {},
   "source": [
    "### Arrays N-Dimensionales (aka matrices)\n",
    "\n",
    "#### Cositas Comunes"
   ]
  },
  {
   "cell_type": "code",
   "execution_count": 467,
   "metadata": {},
   "outputs": [],
   "source": [
    "# Creación de una matriz (array de más de 1 dimensión) con enteros en su interior:\n",
    "\n",
    "matriz = np.array([\n",
    "                    [1,3,5],\n",
    "                    [2,4,6]\n",
    "])"
   ]
  },
  {
   "cell_type": "code",
   "execution_count": 110,
   "metadata": {},
   "outputs": [
    {
     "data": {
      "text/plain": [
       "array([[1, 3, 5],\n",
       "       [2, 4, 6]])"
      ]
     },
     "execution_count": 110,
     "metadata": {},
     "output_type": "execute_result"
    }
   ],
   "source": [
    "matriz"
   ]
  },
  {
   "cell_type": "code",
   "execution_count": 111,
   "metadata": {},
   "outputs": [
    {
     "name": "stdout",
     "output_type": "stream",
     "text": [
      "[[1 3 5]\n",
      " [2 4 6]]\n"
     ]
    }
   ],
   "source": [
    "print(matriz)"
   ]
  },
  {
   "cell_type": "code",
   "execution_count": 112,
   "metadata": {},
   "outputs": [
    {
     "data": {
      "text/plain": [
       "numpy.ndarray"
      ]
     },
     "execution_count": 112,
     "metadata": {},
     "output_type": "execute_result"
    }
   ],
   "source": [
    "type(matriz)"
   ]
  },
  {
   "cell_type": "code",
   "execution_count": 113,
   "metadata": {},
   "outputs": [
    {
     "data": {
      "text/plain": [
       "2"
      ]
     },
     "execution_count": 113,
     "metadata": {},
     "output_type": "execute_result"
    }
   ],
   "source": [
    "# Conocer la dimensión del array (de la matriz):\n",
    "\n",
    "matriz.ndim"
   ]
  },
  {
   "cell_type": "code",
   "execution_count": 114,
   "metadata": {},
   "outputs": [
    {
     "data": {
      "text/plain": [
       "(2, 3)"
      ]
     },
     "execution_count": 114,
     "metadata": {},
     "output_type": "execute_result"
    }
   ],
   "source": [
    "# Conocer la forma de la matriz\n",
    "#\n",
    "#\n",
    "# Devuelve:\n",
    "#\n",
    "# (num_de_filas, num_de_columnas)\n",
    "\n",
    "matriz.shape"
   ]
  },
  {
   "cell_type": "code",
   "execution_count": 115,
   "metadata": {},
   "outputs": [
    {
     "data": {
      "text/plain": [
       "2"
      ]
     },
     "execution_count": 115,
     "metadata": {},
     "output_type": "execute_result"
    }
   ],
   "source": [
    "# Forma alternativa de conocer el número de filas en la matriz:\n",
    "\n",
    "len(matriz)"
   ]
  },
  {
   "cell_type": "code",
   "execution_count": 150,
   "metadata": {},
   "outputs": [
    {
     "name": "stdout",
     "output_type": "stream",
     "text": [
      "6\n",
      "6\n"
     ]
    }
   ],
   "source": [
    "# Conocer el número TOTAL de elementos dentro de la matriz (2 maneras):\n",
    "\n",
    "print( matriz.size )\n",
    "print( matriz.shape[0]*matriz.shape[1] )"
   ]
  },
  {
   "cell_type": "code",
   "execution_count": 621,
   "metadata": {},
   "outputs": [
    {
     "name": "stdout",
     "output_type": "stream",
     "text": [
      "Matriz:\n",
      " [[1 3 5]\n",
      " [2 4 6]] \n",
      " con shape:  (2, 3)\n",
      "Primera Fila:\n",
      " [1 3 5] \n",
      " con shape:  (3,)\n",
      "Primera Fila:\n",
      " [1 3 5] \n",
      " con shape:  (3,)\n",
      "Primera Columna:\n",
      " [1 2] \n",
      " con shape:  (2,)\n",
      "El elemento en la segunda fila, tercera columna es:  6\n"
     ]
    }
   ],
   "source": [
    "# Acceder a los elementos internos de una matriz:\n",
    "#\n",
    "# (Muy similar a la listas)\n",
    "#\n",
    "# Para una matriz 'm x n':\n",
    "#    · El acceso a una fila devuelve un array de shape (n x 1)\n",
    "#    · El acceso a una columna devuelve un array de shape (m x 1) y no (1 x m)\n",
    "#\n",
    "# La sintaxis de acceso a un cierto elemento de la matriz es:\n",
    "#\n",
    "# matriz[ID_fila, ID_columna]\n",
    "#\n",
    "# IMPORTANTE RECORDAR!!! La 1ª fila/columna se indexa con 0!\n",
    "\n",
    "print(\"Matriz:\\n\",matriz,\"\\n con shape: \",matriz.shape)\n",
    "print(\"Primera Fila:\\n\",matriz[0],\"\\n con shape: \",matriz[0].shape)\n",
    "print(\"Primera Fila:\\n\",matriz[0,:],\"\\n con shape: \",matriz[0,:].shape)\n",
    "print(\"Primera Columna:\\n\",matriz[:,0],\"\\n con shape: \",matriz[:,0].shape)\n",
    "print(\"El elemento en la segunda fila, tercera columna es: \",matriz[1,2])"
   ]
  },
  {
   "cell_type": "code",
   "execution_count": 525,
   "metadata": {},
   "outputs": [
    {
     "name": "stdout",
     "output_type": "stream",
     "text": [
      "siguiente fila:\n",
      "[1 3 5]\n",
      "siguiente fila:\n",
      "[2 4 6]\n"
     ]
    }
   ],
   "source": [
    "# Iteraciones sobre elementos matriciales\n",
    "\n",
    "for fila in matriz:\n",
    "    print(\"siguiente fila:\")\n",
    "    print(fila)\n",
    "    "
   ]
  },
  {
   "cell_type": "code",
   "execution_count": 537,
   "metadata": {},
   "outputs": [
    {
     "data": {
      "text/plain": [
       "array([[ 2,  6, 10],\n",
       "       [ 4,  8, 12]])"
      ]
     },
     "execution_count": 537,
     "metadata": {},
     "output_type": "execute_result"
    }
   ],
   "source": [
    "# Iteración Pretty\n",
    "\n",
    "np.array([num*2 for num in matriz])"
   ]
  },
  {
   "cell_type": "markdown",
   "metadata": {},
   "source": [
    "#### Otros métodos útiles con arrays N-dimensionales"
   ]
  },
  {
   "cell_type": "code",
   "execution_count": 573,
   "metadata": {},
   "outputs": [
    {
     "name": "stdout",
     "output_type": "stream",
     "text": [
      "Matriz de enteros:\n",
      " [[1 2 3]\n",
      " [4 5 6]\n",
      " [7 8 9]]\n",
      "Tipo Dato:  int32\n",
      "Matriz de floats:\n",
      " [[1.1 2.2 3.3]\n",
      " [4.4 5.5 6.6]\n",
      " [7.7 8.8 9.9]]\n",
      "Tipo Dato:  float64\n",
      "Matriz de mixtos/str:\n",
      " [['a' 'b' 'c']\n",
      " ['d' 'e' 'f']\n",
      " ['h' 'i' 'j']]\n",
      "Tipo Dato:  <U1\n",
      "Matriz de bools:\n",
      " [[ True  True  True]\n",
      " [False False False]]\n",
      "Tipo Dato:  bool\n"
     ]
    }
   ],
   "source": [
    "# Conocer los tipos de los elementos contenidos en la matriz\n",
    "\n",
    "matriz_int = np.array([[1,2,3],[4,5,6],[7,8,9]])\n",
    "print( \"Matriz de enteros:\\n\",matriz_int )\n",
    "print( \"Tipo Dato: \",matriz_int.dtype )\n",
    "\n",
    "\n",
    "matriz_float = np.array([[1.1,2.2,3.3],[4.4,5.5,6.6],[7.7,8.8,9.9]])\n",
    "print( \"Matriz de floats:\\n\",matriz_float )\n",
    "print( \"Tipo Dato: \",matriz_float.dtype )\n",
    "\n",
    "matriz_str = np.array([[\"a\",\"b\",\"c\"],[\"d\",\"e\",\"f\"],[\"h\",\"i\",\"j\"]])\n",
    "print( \"Matriz de mixtos/str:\\n\",matriz_str )\n",
    "print( \"Tipo Dato: \",matriz_str.dtype )\n",
    "\n",
    "matriz_bool = np.array([[True, True, True],[False,False,False]])\n",
    "print( \"Matriz de bools:\\n\",matriz_bool )\n",
    "print( \"Tipo Dato: \",matriz_bool.dtype )\n"
   ]
  },
  {
   "cell_type": "code",
   "execution_count": 582,
   "metadata": {},
   "outputs": [
    {
     "name": "stdout",
     "output_type": "stream",
     "text": [
      " Para matriz enteros:\n",
      "\n",
      "    .sum():  45\n",
      "   .prod():  362880\n",
      " .cumsum():  [ 1  3  6 10 15 21 28 36 45]\n",
      ".cumprod():  [     1      2      6     24    120    720   5040  40320 362880] \n",
      "\n",
      " Para matriz floats:\n",
      "\n",
      "    .sum():  49.5\n",
      "   .prod():  855652.0581100801\n",
      " .cumsum():  [ 1.1  3.3  6.6 11.  16.5 23.1 30.8 39.6 49.5]\n",
      ".cumprod():  [1.10000000e+00 2.42000000e+00 7.98600000e+00 3.51384000e+01\n",
      " 1.93261200e+02 1.27552392e+03 9.82153418e+03 8.64295008e+04\n",
      " 8.55652058e+05]\n"
     ]
    }
   ],
   "source": [
    "# Para matrices con enteros y floats:\n",
    "\n",
    "print( \" Para matriz enteros:\\n\")\n",
    "print( \"    .sum(): \", matriz_int.sum() )\n",
    "print( \"   .prod(): \", matriz_int.prod() )\n",
    "print( \" .cumsum(): \", matriz_int.cumsum() )\n",
    "print( \".cumprod(): \", matriz_int.cumprod(),\"\\n\" )\n",
    "\n",
    "print( \" Para matriz floats:\\n\")\n",
    "print( \"    .sum(): \", matriz_float.sum() )\n",
    "print( \"   .prod(): \", matriz_float.prod() )\n",
    "print( \" .cumsum(): \", matriz_float.cumsum() )\n",
    "print( \".cumprod(): \", matriz_float.cumprod() )"
   ]
  },
  {
   "cell_type": "code",
   "execution_count": 607,
   "metadata": {},
   "outputs": [
    {
     "name": "stdout",
     "output_type": "stream",
     "text": [
      "  .max():  9\n",
      "  .min():  1\n",
      " .mean():  5.0\n",
      "  .std():  2.581988897471611\n"
     ]
    }
   ],
   "source": [
    "# Valor max, min, mean, std:\n",
    "\n",
    "print( \"  .max(): \", matriz_int.max() )\n",
    "print( \"  .min(): \", matriz_int.min() )\n",
    "print( \" .mean(): \", matriz_int.mean() )\n",
    "print( \"  .std(): \", matriz_int.std() )"
   ]
  },
  {
   "cell_type": "markdown",
   "metadata": {},
   "source": [
    "**Obtención de las diagonales de las matrices (y de sus sumas):**\n",
    "    \n",
    "Se pueden obtener las diferentes diagonales de las matrices según el esquema del ejemplo abajo mostrado.\n",
    "\n",
    "En matrices con elementos int o float se emplea el método .trace(d) para obtener la suma de los elementos de la diagonal d-esima.\n",
    "    \n",
    "<img src=\"./Images/matriz_diagonal.PNG\" width=\"500\"/>"
   ]
  },
  {
   "cell_type": "code",
   "execution_count": 882,
   "metadata": {},
   "outputs": [
    {
     "name": "stdout",
     "output_type": "stream",
     "text": [
      "Para la matriz:\n",
      "\n",
      "[1 4 7]\n",
      "[2 5 8]\n",
      "[3 6 9]\n",
      "\n",
      "El método .diagonal() o .diagonal(0) devuelve la diagonal principal de la matriz: [1 5 9]\n",
      "El método .diagonal(-2) devuelve la diagonal 2ª por debajo de la diagonal ppal de la matriz: [3]\n",
      "El método .diagonal(1) devuelve la diagonal 1ª por encima de la diagonal ppal de la matriz: [4 8]\n",
      "\n",
      "El método .trace() o .trace(0) devuelve la suma de los elementos de la diagonal principal de la matriz: 15\n"
     ]
    }
   ],
   "source": [
    "# Obtener diagonales de las matrices:\n",
    "\n",
    "matriz_diag = np.array([[1,4,7],[2,5,8],[3,6,9]])\n",
    "\n",
    "print(\"Para la matriz:\\n\")\n",
    "for fila in matriz_diag:\n",
    "    print(fila)\n",
    "\n",
    "print( \"\\nEl método .diagonal() o .diagonal(0) devuelve la diagonal principal de la matriz:\",matriz_diag.diagonal() )\n",
    "print( \"El método .diagonal(-2) devuelve la diagonal 2ª por debajo de la diagonal ppal de la matriz:\",matriz_diag.diagonal(-2) )\n",
    "print( \"El método .diagonal(1) devuelve la diagonal 1ª por encima de la diagonal ppal de la matriz:\",matriz_diag.diagonal(1) )\n",
    "\n",
    "print( \"\\nEl método .trace() o .trace(0) devuelve la suma de los elementos de la diagonal principal de la matriz:\",matriz_diag.trace() )"
   ]
  },
  {
   "cell_type": "code",
   "execution_count": 636,
   "metadata": {},
   "outputs": [
    {
     "name": "stdout",
     "output_type": "stream",
     "text": [
      "Para la matriz 'matriz_int':\n",
      "\n",
      "[1 2 3]\n",
      "[4 5 6]\n",
      "[7 8 9]\n",
      "\n",
      "Relleno la primera fila de 4s usando: matriz_int[0,:].fill(4):\n",
      "\n",
      "[4 4 4]\n",
      "[4 5 6]\n",
      "[7 8 9]\n",
      "\n",
      "Relleno toda matriz de 1s usando: matriz_int.fill(1):\n",
      "\n",
      "[1 1 1]\n",
      "[1 1 1]\n",
      "[1 1 1]\n"
     ]
    }
   ],
   "source": [
    "# Rellenar con un cierto elemento:\n",
    "\n",
    "matriz_int = np.array([[1,2,3],[4,5,6],[7,8,9]])\n",
    "\n",
    "print(\"Para la matriz 'matriz_int':\\n\")\n",
    "for fila in matriz_int:\n",
    "    print(fila)\n",
    "    \n",
    "print(\"\\nRelleno la primera fila de 4s usando: matriz_int[0,:].fill(4):\\n\")\n",
    "matriz_int[0,:].fill(4)\n",
    "for fila in matriz_int:\n",
    "    print(fila)\n",
    "    \n",
    "print(\"\\nRelleno toda matriz de 1s usando: matriz_int.fill(1):\\n\")\n",
    "matriz_int.fill(1)\n",
    "for fila in matriz_int:\n",
    "    print(fila)\n",
    "    \n",
    "matriz_int = np.array([[1,2,3],[4,5,6],[7,8,9]])"
   ]
  },
  {
   "cell_type": "code",
   "execution_count": 840,
   "metadata": {},
   "outputs": [
    {
     "name": "stdout",
     "output_type": "stream",
     "text": [
      "Para la matriz 'matriz_int':\n",
      "\n",
      "[1 2 3]\n",
      "[4 5 6]\n",
      "[7 8 9]\n",
      "\n",
      "El método .flatten() devuelve:  [1 2 3 4 5 6 7 8 9]\n",
      "\n",
      "Análogamente puede usarse el método .ravel()\n"
     ]
    }
   ],
   "source": [
    "# Allanado / Alisado / Aplanado de matrices (flatten en inglés):\n",
    "#\n",
    "# Se trata de convertir arrays N-dimensionales en arrays 1-Dimensionales de tal manera que si se tiene una matriz de\n",
    "# dimensiones n x m se obtenga un array de dimensiones 1 x n*m\n",
    "#\n",
    "matriz_int = np.array([[1,2,3],[4,5,6],[7,8,9]])\n",
    "\n",
    "print(\"Para la matriz 'matriz_int':\\n\")\n",
    "for fila in matriz_int:\n",
    "    print(fila)\n",
    "    \n",
    "print(\"\\nEl método .flatten() devuelve: \",matriz_int.flatten())\n",
    "print(\"\\nAnálogamente puede usarse el método .ravel()\")"
   ]
  },
  {
   "cell_type": "code",
   "execution_count": 842,
   "metadata": {},
   "outputs": [
    {
     "name": "stdout",
     "output_type": "stream",
     "text": [
      "Para la matriz 'matriz_int':\n",
      "\n",
      "[1 2 3]\n",
      "[4 5 6]\n",
      "[7 8 9]\n",
      "\n",
      "El método .repeat(2) devuelve el array:  [1 1 2 2 3 3 4 4 5 5 6 6 7 7 8 8 9 9]\n"
     ]
    }
   ],
   "source": [
    "# Repetir los elementos de la matriz un n número de veces.\n",
    "#\n",
    "# IMPORTANTE: El método .repeat() devuelve un array 1-Dimensional (es decir, aplana la matriz)\n",
    "\n",
    "matriz_int = np.array([[1,2,3],[4,5,6],[7,8,9]])\n",
    "\n",
    "print(\"Para la matriz 'matriz_int':\\n\")\n",
    "for fila in matriz_int:\n",
    "    print(fila)\n",
    "    \n",
    "print(\"\\nEl método .repeat(2) devuelve el array: \",matriz_int.repeat(2))"
   ]
  },
  {
   "cell_type": "code",
   "execution_count": 878,
   "metadata": {},
   "outputs": [
    {
     "name": "stdout",
     "output_type": "stream",
     "text": [
      "Para la matriz:\n",
      "\n",
      "[1 1 1 1]\n",
      "[2 2 2 2]\n",
      "[3 3 3 3]\n",
      "[4 4 4 4]\n",
      "\n",
      "El método .reshape(8,2) devuelve una matriz de 8 filas y 2 columnas:\n",
      "\n",
      "[1 1]\n",
      "[1 1]\n",
      "[2 2]\n",
      "[2 2]\n",
      "[3 3]\n",
      "[3 3]\n",
      "[4 4]\n",
      "[4 4]\n"
     ]
    }
   ],
   "source": [
    "# Redimensionar una matriz de n elementos a un array de diferente dimensionalidad (i x j)\n",
    "#\n",
    "#\n",
    "# IMPORTANTE!! El producto i x j deberá ser igual a n.\n",
    "\n",
    "matriz_int_4x4 = np.array([[1,1,1,1],[2,2,2,2],[3,3,3,3],[4,4,4,4]])\n",
    "\n",
    "print(\"Para la matriz:\\n\")\n",
    "for fila in matriz_int_4x4:\n",
    "    print(fila)\n",
    "    \n",
    "print(\"\\nEl método .reshape(8,2) devuelve una matriz de 8 filas y 2 columnas:\\n\")\n",
    "for fila in matriz_int_4x4.reshape(8,2):\n",
    "    print(fila)"
   ]
  },
  {
   "cell_type": "code",
   "execution_count": 894,
   "metadata": {},
   "outputs": [
    {
     "name": "stdout",
     "output_type": "stream",
     "text": [
      "Para la matriz:\n",
      "\n",
      "[1 2 3]\n",
      "[4 5 6]\n",
      "\n",
      "El método .transpose o .T devuelve la matriz transpuesta:\n",
      "\n",
      "[1 4]\n",
      "[2 5]\n",
      "[3 6]\n"
     ]
    }
   ],
   "source": [
    "# Transponer matrices:\n",
    "\n",
    "matriz_int_3x2 = np.array([[1,2,3],[4,5,6]])\n",
    "\n",
    "print(\"Para la matriz:\\n\")\n",
    "for fila in matriz_int_3x2:\n",
    "    print(fila)\n",
    "    \n",
    "print(\"\\nEl método .transpose o .T devuelve la matriz transpuesta:\\n\")\n",
    "for fila in matriz_int_3x2.T:\n",
    "    print(fila)\n",
    "\n"
   ]
  },
  {
   "cell_type": "markdown",
   "metadata": {},
   "source": [
    "## Filtrado de Arrays"
   ]
  },
  {
   "cell_type": "code",
   "execution_count": 893,
   "metadata": {},
   "outputs": [
    {
     "name": "stdout",
     "output_type": "stream",
     "text": [
      "Para la matriz:\n",
      "[1 4]\n",
      "[2 4]\n",
      "[5 0]\n",
      "\n",
      "Podemos filtrar por aquellos elementos que sean mayor que 2 usando:\n",
      "\n",
      "idxs_fitrado = (matriz_int_3x2 >= 2)\n",
      "\n",
      "Devolviéndonos una matriz booleana:\n",
      "[False  True]\n",
      "[ True  True]\n",
      "[ True False]\n",
      "\n",
      "Esta matriz se puede usar para indexar sobre la original\n",
      "(matriz_int_3x2[idxs_filtrado])\n",
      "de tal manera que nos devuelve los valores que cumplen la condición:\n",
      "[4 2 4 5]\n"
     ]
    }
   ],
   "source": [
    "# Filtrado de elementos dentro de matrices / arrays:\n",
    "\n",
    "\n",
    "matriz_int_3x2= np.array([[1, 4], [2, 4], [5, 0]])\n",
    "print(\"Para la matriz:\")\n",
    "for fila in matriz_int_3x2:\n",
    "    print(fila)\n",
    "\n",
    "print(\"\\nPodemos filtrar por aquellos elementos que sean mayor que 2 usando:\")\n",
    "print(\"\\nidxs_fitrado = (matriz_int_3x2 >= 2)\")\n",
    "idxs_filtrado = (matriz_int_3x2 >= 2)\n",
    "\n",
    "print(\"\\nDevolviéndonos una matriz booleana:\")\n",
    "for fila in idxs_fitrado:\n",
    "    print(fila)\n",
    "    \n",
    "print(\"\\nEsta matriz se puede usar para indexar sobre la original\\n(matriz_int_3x2[idxs_filtrado])\\nde tal manera que nos devuelve los valores que cumplen la condición:\")\n",
    "print(matriz_int_3x2[idxs_filtrado])\n"
   ]
  },
  {
   "cell_type": "markdown",
   "metadata": {},
   "source": [
    "## Aritmética con Arrays"
   ]
  },
  {
   "cell_type": "code",
   "execution_count": 901,
   "metadata": {},
   "outputs": [],
   "source": [
    "# Definimos las matrices:\n",
    "\n",
    "M_1 = np.array([[10,20],[33,44]])\n",
    "M_2 = np.array([[7,13],[0,23]])"
   ]
  },
  {
   "cell_type": "code",
   "execution_count": 960,
   "metadata": {},
   "outputs": [
    {
     "name": "stdout",
     "output_type": "stream",
     "text": [
      "M_1:\n",
      "[10 20]\n",
      "[33 44]\n",
      "\n",
      "M_2:\n",
      "[ 7 13]\n",
      "[ 0 23]\n",
      "\n",
      " Suma elemento a elemento: M_1 + M_2:\n",
      "[17 33]\n",
      "[33 67]\n",
      "\n",
      " Producto elemento a elemento: M_1 * M_2:\n",
      "[ 70 260]\n",
      "[   0 1012]\n",
      "\n",
      " Producto matricial: M_1 @ M_2 o bien M_1.dot(M_2):\n",
      "[ 70 590]\n",
      "[ 231 1441]\n"
     ]
    }
   ],
   "source": [
    "# Ops básicas:\n",
    "\n",
    "print(\"M_1:\")\n",
    "for fila in M_1:\n",
    "    print(fila)\n",
    "\n",
    "print(\"\\nM_2:\")\n",
    "for fila in M_2:\n",
    "    print(fila)\n",
    "    \n",
    "print(\"\\n Suma elemento a elemento: M_1 + M_2:\")\n",
    "for fila in (M_1 + M_2):\n",
    "    print(fila)\n",
    "    \n",
    "print(\"\\n Producto elemento a elemento: M_1 * M_2:\")\n",
    "for fila in (M_1 * M_2):\n",
    "    print(fila)\n",
    "    \n",
    "# IMPORTANTE!!!\n",
    "#\n",
    "# Recordar que los productos matriciales el número de columnas de M_1 deberás ser igual al número de filas de M_2 cuando\n",
    "# se realice el M_1 x M_2\n",
    "    \n",
    "print(\"\\n Producto matricial: M_1 @ M_2 o bien M_1.dot(M_2):\")\n",
    "for fila in (M_1 @ M_2):\n",
    "    print(fila)"
   ]
  },
  {
   "cell_type": "code",
   "execution_count": null,
   "metadata": {},
   "outputs": [],
   "source": []
  },
  {
   "cell_type": "code",
   "execution_count": 943,
   "metadata": {},
   "outputs": [],
   "source": [
    "m_2x2 = np.array([[1,2],[3,4],[5,6]])\n",
    "m_2x5 = np.array([[1,2,3,4,5],[3,4,5,6,7]])"
   ]
  },
  {
   "cell_type": "code",
   "execution_count": 944,
   "metadata": {},
   "outputs": [
    {
     "name": "stdout",
     "output_type": "stream",
     "text": [
      "(3, 2)\n",
      "(2, 5)\n"
     ]
    }
   ],
   "source": []
  },
  {
   "cell_type": "code",
   "execution_count": 958,
   "metadata": {},
   "outputs": [
    {
     "name": "stdout",
     "output_type": "stream",
     "text": [
      "Primera Matriz de tamaño (3, 2):\n",
      "[1 2]\n",
      "[3 4]\n",
      "[5 6]\n",
      "\n",
      "Segunda Matriz de tamaño (2, 5):\n",
      "[1 2 3 4 5]\n",
      "[3 4 5 6 7]\n",
      "\n",
      "El producto matricial da una matriz de tamaño (3, 5):\n",
      "[ 7 10 13 16 19]\n",
      "[15 22 29 36 43]\n",
      "[23 34 45 56 67]\n"
     ]
    }
   ],
   "source": [
    "print(\"Primera Matriz de tamaño {}:\".format(m_2x2.shape))\n",
    "for fila in m_2x2:\n",
    "    print(fila)\n",
    "\n",
    "print(\"\\nSegunda Matriz de tamaño {}:\".format(m_2x5.shape))\n",
    "for fila in m_2x5:\n",
    "    print(fila)\n",
    "\n",
    "print(\"\\nEl producto matricial da una matriz de tamaño {}:\".format((m_2x2@m_2x5).shape))\n",
    "for fila in (m_2x2@m_2x5):\n",
    "    print(fila)"
   ]
  }
 ],
 "metadata": {
  "kernelspec": {
   "display_name": "Python 3",
   "language": "python",
   "name": "python3"
  },
  "language_info": {
   "codemirror_mode": {
    "name": "ipython",
    "version": 3
   },
   "file_extension": ".py",
   "mimetype": "text/x-python",
   "name": "python",
   "nbconvert_exporter": "python",
   "pygments_lexer": "ipython3",
   "version": "3.7.3"
  }
 },
 "nbformat": 4,
 "nbformat_minor": 2
}
